{
 "cells": [
  {
   "cell_type": "code",
   "execution_count": 8,
   "id": "4d418b59",
   "metadata": {},
   "outputs": [],
   "source": [
    "import numpy as np \n",
    "import cv2\n",
    "img_filter=cv2.imread(r\"C:\\Users\\korkm\\Downloads\\8.2 filter.png.png\")\n",
    "img_bilateral=cv2.imread(r\"C:\\Users\\korkm\\Downloads\\8.4 bilateral.png.png\")\n",
    "img_median=cv2.imread(r\"C:\\Users\\korkm\\Downloads\\8.1 median.png.png\")\n",
    "\n",
    "blur= cv2.blur(img_filter,(17,17))\n",
    "blurG=cv2.GaussianBlur(img_filter,(17,17),cv2.BORDER_DEFAULT)\n",
    "blur_m=cv2.medianBlur(img_median,17)#buradkai blur değerlerinin tek sayı olması gerekir\n",
    "blur_b=cv2.bilateralFilter(img_bilateral,9,150,150)\n",
    "\n",
    "cv2.imshow(\"blur\",blur)\n",
    "cv2.imshow(\"asil\",img_filter)\n",
    "cv2.imshow(\"Gaussianblur\",blurG)\n",
    "cv2.imshow(\"notmedian\",img_median)\n",
    "cv2.imshow(\"median\",blur_m)\n",
    "cv2.imshow(\"bilateral\",blur_b)\n",
    "cv2.imshow(\"bilateralden önce\",img_bilateral)\n",
    "\n",
    "\n",
    "\n",
    "\n",
    "\n",
    "\n",
    "\n",
    "cv2.waitKey(0)\n",
    "cv2.destroyAllWindows()"
   ]
  }
 ],
 "metadata": {
  "kernelspec": {
   "display_name": "Python 3 (ipykernel)",
   "language": "python",
   "name": "python3"
  },
  "language_info": {
   "codemirror_mode": {
    "name": "ipython",
    "version": 3
   },
   "file_extension": ".py",
   "mimetype": "text/x-python",
   "name": "python",
   "nbconvert_exporter": "python",
   "pygments_lexer": "ipython3",
   "version": "3.10.7"
  }
 },
 "nbformat": 4,
 "nbformat_minor": 5
}
