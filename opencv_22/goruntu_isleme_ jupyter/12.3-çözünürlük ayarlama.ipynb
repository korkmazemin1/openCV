{
 "cells": [
  {
   "cell_type": "code",
   "execution_count": 1,
   "metadata": {},
   "outputs": [
    {
     "name": "stdout",
     "output_type": "stream",
     "text": [
      "width:640.0\n",
      "Height:480.0\n",
      "width*:1280.0\n",
      "Height*:720.0\n"
     ]
    }
   ],
   "source": [
    "import cv2\n",
    "import numpy as np\n",
    "windowName=\"Lİve Video\"\n",
    "cv2.namedWindow(windowName)\n",
    "cap=cv2.VideoCapture(0)\n",
    "print(\"width:\"+ str(cap.get(3)))\n",
    "print(\"Height:\"+ str(cap.get(4)))\n",
    "\n",
    "cap.set(3,1280)\n",
    "cap.set(47,20)\n",
    "\n",
    "print(\"width*:\"+ str(cap.get(3)))\n",
    "print(\"Height*:\"+ str(cap.get(4)))\n",
    "\n",
    "while True:\n",
    "    _,frame=cap.read()\n",
    "    frame=cv2.flip(frame,1)\n",
    "\n",
    "    cv2.imshow(windowName,frame)\n",
    "\n",
    "    if cv2.waitKey(30)& 0xFF==ord(\"q\"):# her kareyi 30 m/s göreceğiz -- q ya basana kadar devam eder\n",
    "        break\n",
    "\n",
    "cap.release()\n",
    "cv2.destroyAllWindows()"
   ]
  }
 ],
 "metadata": {
  "kernelspec": {
   "display_name": "Python 3",
   "language": "python",
   "name": "python3"
  },
  "language_info": {
   "codemirror_mode": {
    "name": "ipython",
    "version": 3
   },
   "file_extension": ".py",
   "mimetype": "text/x-python",
   "name": "python",
   "nbconvert_exporter": "python",
   "pygments_lexer": "ipython3",
   "version": "3.10.7"
  }
 },
 "nbformat": 4,
 "nbformat_minor": 5
}
