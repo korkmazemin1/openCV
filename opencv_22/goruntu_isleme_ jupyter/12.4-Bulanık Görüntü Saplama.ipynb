{
 "cells": [
  {
   "cell_type": "code",
   "execution_count": 2,
   "metadata": {},
   "outputs": [
    {
     "name": "stdout",
     "output_type": "stream",
     "text": [
      "317.9994595426443\n",
      "this image has blur\n",
      "900.5680561195056\n"
     ]
    },
    {
     "ename": "SystemError",
     "evalue": "<built-in function destroyAllWindows> returned NULL without setting an exception",
     "output_type": "error",
     "traceback": [
      "\u001b[1;31m---------------------------------------------------------------------------\u001b[0m",
      "\u001b[1;31mSystemError\u001b[0m                               Traceback (most recent call last)",
      "\u001b[1;32mc:\\Users\\korkm\\Desktop\\yazılım\\görüntü işleme jupyter notları\\.ipynb_checkpoints\\görüntü işleme jupyter\\12.4-Bulanık Görüntü Saplama.ipynb Cell 1\u001b[0m in \u001b[0;36m2\n\u001b[0;32m     <a href='vscode-notebook-cell:/c%3A/Users/korkm/Desktop/yaz%C4%B1l%C4%B1m/g%C3%B6r%C3%BCnt%C3%BC%20i%C5%9Fleme%20jupyter%20notlar%C4%B1/.ipynb_checkpoints/g%C3%B6r%C3%BCnt%C3%BC%20i%C5%9Fleme%20jupyter/12.4-Bulan%C4%B1k%20G%C3%B6r%C3%BCnt%C3%BC%20Saplama.ipynb#W0sZmlsZQ%3D%3D?line=16'>17</a>\u001b[0m cv2\u001b[39m.\u001b[39mimshow(\u001b[39m\"\u001b[39m\u001b[39mimgblur\u001b[39m\u001b[39m\"\u001b[39m,blurry_img)\n\u001b[0;32m     <a href='vscode-notebook-cell:/c%3A/Users/korkm/Desktop/yaz%C4%B1l%C4%B1m/g%C3%B6r%C3%BCnt%C3%BC%20i%C5%9Fleme%20jupyter%20notlar%C4%B1/.ipynb_checkpoints/g%C3%B6r%C3%BCnt%C3%BC%20i%C5%9Fleme%20jupyter/12.4-Bulan%C4%B1k%20G%C3%B6r%C3%BCnt%C3%BC%20Saplama.ipynb#W0sZmlsZQ%3D%3D?line=20'>21</a>\u001b[0m cv2\u001b[39m.\u001b[39mwaitKey(\u001b[39m0\u001b[39m)\n\u001b[1;32m---> <a href='vscode-notebook-cell:/c%3A/Users/korkm/Desktop/yaz%C4%B1l%C4%B1m/g%C3%B6r%C3%BCnt%C3%BC%20i%C5%9Fleme%20jupyter%20notlar%C4%B1/.ipynb_checkpoints/g%C3%B6r%C3%BCnt%C3%BC%20i%C5%9Fleme%20jupyter/12.4-Bulan%C4%B1k%20G%C3%B6r%C3%BCnt%C3%BC%20Saplama.ipynb#W0sZmlsZQ%3D%3D?line=21'>22</a>\u001b[0m cv2\u001b[39m.\u001b[39;49mdestroyAllWindows(\u001b[39m0\u001b[39;49m)\n",
      "\u001b[1;31mSystemError\u001b[0m: <built-in function destroyAllWindows> returned NULL without setting an exception"
     ]
    }
   ],
   "source": [
    "import cv2\n",
    "import numpy as np \n",
    "\n",
    "img=cv2.imread(r\"C:\\Users\\korkm\\Downloads\\4.2 starwars.jpg.jpg\")\n",
    "blurry_img=cv2.medianBlur(img,7)\n",
    "\n",
    "Laplacian=cv2.Laplacian(blurry_img,cv2.CV_64F).var()\n",
    "print(Laplacian)\n",
    "if Laplacian<700:\n",
    "    print(\"this image has blur\")\n",
    "\n",
    "Laplacian0=cv2.Laplacian(img,cv2.CV_64F).var()\n",
    "print(Laplacian0)\n",
    "\n",
    "\n",
    "cv2.imshow(\"img\",img)\n",
    "cv2.imshow(\"imgblur\",blurry_img)\n",
    "\n",
    "\n",
    "\n",
    "cv2.waitKey(0)\n",
    "cv2.destroyAllWindows(0)"
   ]
  }
 ],
 "metadata": {
  "kernelspec": {
   "display_name": "Python 3",
   "language": "python",
   "name": "python3"
  },
  "language_info": {
   "codemirror_mode": {
    "name": "ipython",
    "version": 3
   },
   "file_extension": ".py",
   "mimetype": "text/x-python",
   "name": "python",
   "nbconvert_exporter": "python",
   "pygments_lexer": "ipython3",
   "version": "3.10.7"
  }
 },
 "nbformat": 4,
 "nbformat_minor": 5
}
