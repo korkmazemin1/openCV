{
 "cells": [
  {
   "cell_type": "code",
   "execution_count": 2,
   "id": "f0974eeb",
   "metadata": {},
   "outputs": [
    {
     "name": "stdout",
     "output_type": "stream",
     "text": [
      "[1 2 3]\n",
      "<class 'numpy.ndarray'>\n",
      "1\n",
      "2\n",
      "3\n",
      "3\n",
      "2\n",
      "1\n"
     ]
    }
   ],
   "source": [
    "import numpy as np\n",
    "x=np.array([1,2,3],np.int16) # range of np.int16\n",
    "print(x)\n",
    "print(type(x))\n",
    "print(x[0]);print(x[1]);print(x[2])\n",
    "print(x[-1])\n",
    "print(x[-2])\n",
    "print(x[-3])"
   ]
  },
  {
   "cell_type": "code",
   "execution_count": 5,
   "id": "67fdecab",
   "metadata": {},
   "outputs": [
    {
     "name": "stdout",
     "output_type": "stream",
     "text": [
      "[[1 2 3]\n",
      " [4 5 6]]\n",
      "1\n",
      "2\n",
      "3\n",
      "ccccccccc\n",
      "4\n",
      "5\n",
      "6\n",
      "ccccccccc\n",
      "[1 4]\n",
      "[2 5]\n",
      "[3 6]\n",
      "ccccccccc\n",
      "ccccc\n",
      "[1 2 3]\n",
      "[4 5 6]\n"
     ]
    }
   ],
   "source": [
    "#numpy iki boyutlu dizler\n",
    "import numpy as np\n",
    "x=np.array([[1,2,3],[4,5,6]],np.int16)\n",
    "print(x)\n",
    "\n",
    "print(x[0,0]);print(x[0,1]);print(x[0,2]);print(\"ccccccccc\")\n",
    "print(x[1,0]);print(x[1,1]);print(x[1,2]);print(\"ccccccccc\")\n",
    "print(x[:,0]);print(x[:,1]);print(x[:,2]);print(\"ccccccccc\")# satırları tarayıp yalnızca yazdığın numaralı indisi alıyor\n",
    "print(\"ccccc\")\n",
    "print(x[0,:]);print(x[1,:])# direkt satırları alıyor"
   ]
  },
  {
   "cell_type": "code",
   "execution_count": 47,
   "id": "a2a0b97d",
   "metadata": {},
   "outputs": [
    {
     "name": "stdout",
     "output_type": "stream",
     "text": [
      "[[[ 1  2  3]\n",
      "  [ 4  5  6]]\n",
      "\n",
      " [[ 7  8  9]\n",
      "  [10 11 12]]]\n",
      "CCCCCC\n",
      "[[ 4  5  6]\n",
      " [10 11 12]]\n",
      "CCCCCC\n",
      "[ 5 11]\n",
      "CCCCCC\n",
      "[5]\n"
     ]
    }
   ],
   "source": [
    "# numpy üç boyutlu diziler\n",
    "\n",
    "import numpy as np \n",
    "x=np.array([[[1,2,3],[4,5,6]],[[7,8,9],[10,11,12]]], np.int16)\n",
    "print(x)\n",
    "print(\"CCCCCC\")\n",
    "print(x[0:,1])# sadece birinci indisleri gir dedim eğer virgül bir değil direkt sıfır yaparsan zaten hepsini alıyor\n",
    "print(\"CCCCCC\")\n",
    "print(x[0:,1,1])# 1 inci inddislerinde birinci indislerini aldık\n",
    "print(\"CCCCCC\")\n",
    "print(x[0:1,1])# birinciyi direkt belirtip onun içindeki 1 i aldık\n",
    "# yani bu şekilde virgülle başlayınca o an nereyi belirtiyosan ordan virgülden sonra belirttiğin indisleri çekiyor virgül ekledikçe daha derine gidiyor\n"
   ]
  },
  {
   "cell_type": "code",
   "execution_count": 54,
   "id": "7ca228c7",
   "metadata": {},
   "outputs": [
    {
     "name": "stdout",
     "output_type": "stream",
     "text": [
      "[[ 12   0 169]\n",
      " [169 178   2]\n",
      " [  0   0   0]]\n",
      "ccccccc\n",
      "[[[10 10 10]\n",
      "  [10 10 10]\n",
      "  [10 10 10]]\n",
      "\n",
      " [[10 10 10]\n",
      "  [10 10 10]\n",
      "  [10 10 10]]\n",
      "\n",
      " [[10 10 10]\n",
      "  [10 10 10]\n",
      "  [10 10 10]]]\n",
      "ccccccc\n",
      "[[[25 25 25 25 25]\n",
      "  [25 25 25 25 25]\n",
      "  [25 25 25 25 25]\n",
      "  [25 25 25 25 25]\n",
      "  [25 25 25 25 25]]\n",
      "\n",
      " [[25 25 25 25 25]\n",
      "  [25 25 25 25 25]\n",
      "  [25 25 25 25 25]\n",
      "  [25 25 25 25 25]\n",
      "  [25 25 25 25 25]]]\n"
     ]
    }
   ],
   "source": [
    "# numpy ones and zeros\n",
    "import numpy as np\n",
    "x=np.empty([3,3],np.uint8)\n",
    "print(x)\n",
    "print(\"ccccccc\")\n",
    "y=np.full((3,3,3),dtype=np.int16,fill_value=10)\n",
    "print(y)\n",
    "print(\"ccccccc\")\n",
    "z=np.full((2,5,5),dtype=np.int16,fill_value=25)\n",
    "print(z)"
   ]
  },
  {
   "cell_type": "code",
   "execution_count": null,
   "id": "2ad7bb7f",
   "metadata": {},
   "outputs": [],
   "source": []
  }
 ],
 "metadata": {
  "kernelspec": {
   "display_name": "Python 3 (ipykernel)",
   "language": "python",
   "name": "python3"
  },
  "language_info": {
   "codemirror_mode": {
    "name": "ipython",
    "version": 3
   },
   "file_extension": ".py",
   "mimetype": "text/x-python",
   "name": "python",
   "nbconvert_exporter": "python",
   "pygments_lexer": "ipython3",
   "version": "3.10.7"
  }
 },
 "nbformat": 4,
 "nbformat_minor": 5
}
