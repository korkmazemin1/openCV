{
 "cells": [
  {
   "cell_type": "code",
   "execution_count": 1,
   "metadata": {},
   "outputs": [],
   "source": [
    "import cv2\n",
    "\n",
    "\n",
    "\n",
    "fullbody_cascade=cv2.CascadeClassifier(r\"C:\\openCV\\haarCascade\\fullbody_haarcascade.xml\")#göz için haarcascade\n",
    "\n",
    "\n",
    "\n",
    "\n",
    "\n",
    "vid=cv2.VideoCapture(r\"C:\\openCV\\test_videos\\10.1 eye.mp4.mp4\")\n",
    "#vid=cv2.VideoCapture(0)\n",
    "\n",
    "while 1 :\n",
    "    ret,frame=vid.read()\n",
    "    frame=cv2.resize(frame,(480,360))\n",
    "\n",
    "    gray=cv2.cvtColor(frame,cv2.COLOR_BGR2GRAY)\n",
    "    body=fullbody_cascade.detectMultiScale(gray,1.4,1)\n",
    "\n",
    "\n",
    "    for (x,y,w,h)in body:\n",
    "        cv2.rectangle(frame,(x,y),(y+h,x+w),(30,23,132),3)\n",
    "    \n",
    "    cv2.imshow(\"video_detect_eye\",frame)\n",
    "\n",
    "    if cv2.waitKey(20) & 0xFF==ord('q'):\n",
    "        break\n",
    "vid.release()\n",
    "cv2.destroyAllWindows()\n"
   ]
  }
 ],
 "metadata": {
  "kernelspec": {
   "display_name": "Python 3",
   "language": "python",
   "name": "python3"
  },
  "language_info": {
   "codemirror_mode": {
    "name": "ipython",
    "version": 3
   },
   "file_extension": ".py",
   "mimetype": "text/x-python",
   "name": "python",
   "nbconvert_exporter": "python",
   "pygments_lexer": "ipython3",
   "version": "3.10.7"
  }
 },
 "nbformat": 4,
 "nbformat_minor": 5
}
