{
 "cells": [
  {
   "cell_type": "code",
   "execution_count": 25,
   "metadata": {},
   "outputs": [],
   "source": [
    "import cv2\n",
    "\n",
    "img=cv2.imread(r\"C:\\openCV\\test_images\\5.3 eye.png.png\")\n",
    "\n",
    "face_cascade=cv2.CascadeClassifier(r\"C:\\openCV\\haarCascade\\haarcascade_frontalface_alt.xml\")\n",
    "eye_cascade=cv2.CascadeClassifier(r\"C:\\openCV\\haarCascade\\eye_haarcascade.xml\")#göz için haarcascade\n",
    "\n",
    "gray=cv2.cvtColor(img,cv2.COLOR_BGR2GRAY)\n",
    "\n",
    "Faces=face_cascade.detectMultiScale(gray,1.3,5)# 1.3 oranında küçülttük -- belirli bir bölgede 5 pencere bulursa yüzü saptasın(haar cascade )\n",
    "if len(Faces)==0:\n",
    "    print(\"hata\")\n",
    "    print(Faces)\n",
    "for (x, y, w, h) in Faces:\n",
    "    cv2.rectangle(img, (x, y), (x+w, y+h), (0, 0, 255), 3)\n",
    "\n",
    "img2 = img[y:y+h, x:x+w]# köşe konumları ve onların kenar uzunluklarını bu şekilde tutuyoruz  \n",
    "gray2 = gray[y:y+h, x:x+w]  \n",
    "\n",
    "#buraya kadar yüz algılayıp o resimi sadece yüzün olduğu kısım olarak alıp gözleri saptayacaksın\n",
    "\n",
    "eyes=eye_cascade.detectMultiScale(gray2,1.3,5)\n",
    "if len(eyes)==0:\n",
    "    print(\"hata2\")\n",
    "    print(eyes)\n",
    "for (ex, ey, ew, eh) in eyes:\n",
    "    cv2.rectangle(img2, (ex, ey), (ex+ew, ey+eh), (255, 0, 0), 1)# sağ üst köşeden x kordinatı ve y kordinatının uzunluk ve genişlik ile arttırarak kenarları bulduk\n",
    "\n",
    "cv2.imshow(\"eye_detect\", img)\n",
    "\n",
    "cv2.waitKey(0)\n",
    "cv2.destroyAllWindows()\n"
   ]
  },
  {
   "cell_type": "code",
   "execution_count": null,
   "id": "ca9c98f5",
   "metadata": {},
   "outputs": [],
   "source": []
  }
 ],
 "metadata": {
  "kernelspec": {
   "display_name": "Python 3",
   "language": "python",
   "name": "python3"
  },
  "language_info": {
   "codemirror_mode": {
    "name": "ipython",
    "version": 3
   },
   "file_extension": ".py",
   "mimetype": "text/x-python",
   "name": "python",
   "nbconvert_exporter": "python",
   "pygments_lexer": "ipython3",
   "version": "3.10.7"
  }
 },
 "nbformat": 4,
 "nbformat_minor": 5
}
