{
 "cells": [
  {
   "cell_type": "code",
   "execution_count": 1,
   "id": "8b243480",
   "metadata": {},
   "outputs": [],
   "source": [
    "import numpy as np\n",
    "import cv2\n",
    "def bos(x):\n",
    "    pass\n",
    "tuval=np.zeros((600,600,3),dtype=np.uint8)\n",
    "cv2.namedWindow(\"pencere\")\n",
    "cv2.createTrackbar(\"R\",\"pencere\",0,255,bos)\n",
    "cv2.createTrackbar(\"G\",\"pencere\",0,255,bos)\n",
    "cv2.createTrackbar(\"B\",\"pencere\",0,255,bos)\n",
    "degis=\"0: ON, 1: OFF\"\n",
    "cv2.createTrackbar(degis,\"pencere\",0,1,bos)\n",
    "\n",
    "while True:\n",
    "    cv2.imshow(\"tuval\",tuval)\n",
    "    if cv2.waitKey(1)& 0xFF==ord(\"q\"):\n",
    "        break\n",
    "    r=cv2.getTrackbarPos(\"R\",\"pencere\")\n",
    "    g=cv2.getTrackbarPos(\"G\",\"pencere\")\n",
    "    b=cv2.getTrackbarPos(\"B\",\"pencere\")\n",
    "    degis1=cv2.getTrackbarPos(degis,\"pencere\")\n",
    "    if degis1==1:\n",
    "        tuval[:]=[r,g,b]\n",
    "    else:\n",
    "        pass    \n",
    "cv2.destroyAllWindows()    "
   ]
  }
 ],
 "metadata": {
  "kernelspec": {
   "display_name": "Python 3.10.7 64-bit",
   "language": "python",
   "name": "python3"
  },
  "language_info": {
   "codemirror_mode": {
    "name": "ipython",
    "version": 3
   },
   "file_extension": ".py",
   "mimetype": "text/x-python",
   "name": "python",
   "nbconvert_exporter": "python",
   "pygments_lexer": "ipython3",
   "version": "3.10.7"
  },
  "vscode": {
   "interpreter": {
    "hash": "fbc70147c0b17e1466092411e4aa22fe65bb9bc84e33454ec8a52da77b41d98a"
   }
  }
 },
 "nbformat": 4,
 "nbformat_minor": 5
}
