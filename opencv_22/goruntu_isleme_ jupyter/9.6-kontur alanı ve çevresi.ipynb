{
 "cells": [
  {
   "cell_type": "code",
   "execution_count": 1,
   "metadata": {},
   "outputs": [
    {
     "name": "stdout",
     "output_type": "stream",
     "text": [
      "alan= 89744.0\n",
      "alan= 89744.0\n",
      "çevre= 1200.0\n"
     ]
    }
   ],
   "source": [
    "import cv2\n",
    "import numpy as np\n",
    "\n",
    "\n",
    "img=cv2.imread(r\"C:\\Users\\korkm\\Downloads\\5.1 contour.png.png\")\n",
    "\n",
    "gray=cv2.cvtColor(img,cv2.COLOR_BGR2GRAY)\n",
    "\n",
    "ret,thresh=cv2.threshold(gray,127,255,cv2.THRESH_BINARY)\n",
    "\n",
    "\n",
    "contours,_=cv2.findContours(thresh,cv2.RETR_TREE,cv2.CHAIN_APPROX_SIMPLE)                       \n",
    "cnt=contours[0]               \n",
    "area=cv2.contourArea(cnt)# konturlarını verdiğimiz cisimin alanını veren fonksiyon\n",
    "print(\"alan=\",area)\n",
    "M=cv2.moments(cnt)\n",
    "print(\"alan=\",M[\"m00\"])# burada ise momentsi kullanarak alan bulduk -- yani momentsdakş m00 değeri bize alanı veriyor demek\n",
    "\n",
    "perimeter=cv2.arcLength(cnt,True)#çevere bulmak için gerekli foksiyon-- ikinci parametre true değerinde ise şekil kapalı anlamına geliyor\n",
    "print(\"çevre=\",perimeter)\n",
    "\n",
    "\n",
    "cv2.imshow(\"asil\",img)\n",
    "cv2.imshow(\"gri\",gray)\n",
    "cv2.imshow(\"thresh\",thresh)\n",
    "\n",
    "\n",
    "cv2.waitKey(0)\n",
    "cv2.destroyAllWindows()"
   ]
  }
 ],
 "metadata": {
  "kernelspec": {
   "display_name": "Python 3",
   "language": "python",
   "name": "python3"
  },
  "language_info": {
   "codemirror_mode": {
    "name": "ipython",
    "version": 3
   },
   "file_extension": ".py",
   "mimetype": "text/x-python",
   "name": "python",
   "nbconvert_exporter": "python",
   "pygments_lexer": "ipython3",
   "version": "3.10.7"
  }
 },
 "nbformat": 4,
 "nbformat_minor": 5
}
