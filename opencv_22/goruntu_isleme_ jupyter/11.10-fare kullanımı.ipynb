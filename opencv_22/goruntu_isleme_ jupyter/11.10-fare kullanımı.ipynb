{
 "cells": [
  {
   "cell_type": "code",
   "execution_count": 6,
   "metadata": {},
   "outputs": [
    {
     "ename": "error",
     "evalue": "OpenCV(4.6.0) D:\\a\\opencv-python\\opencv-python\\opencv\\modules\\highgui\\src\\window.cpp:967: error: (-215:Assertion failed) size.width>0 && size.height>0 in function 'cv::imshow'\n",
     "output_type": "error",
     "traceback": [
      "\u001b[1;31m---------------------------------------------------------------------------\u001b[0m",
      "\u001b[1;31merror\u001b[0m                                     Traceback (most recent call last)",
      "\u001b[1;32mc:\\Users\\korkm\\Desktop\\yazılım\\görüntü işleme jupyter notları\\.ipynb_checkpoints\\görüntü işleme jupyter\\11.10-fare kullanımı.ipynb Cell 1\u001b[0m in \u001b[0;36m2\n\u001b[0;32m     <a href='vscode-notebook-cell:/c%3A/Users/korkm/Desktop/yaz%C4%B1l%C4%B1m/g%C3%B6r%C3%BCnt%C3%BC%20i%C5%9Fleme%20jupyter%20notlar%C4%B1/.ipynb_checkpoints/g%C3%B6r%C3%BCnt%C3%BC%20i%C5%9Fleme%20jupyter/11.10-fare%20kullan%C4%B1m%C4%B1.ipynb#W0sZmlsZQ%3D%3D?line=17'>18</a>\u001b[0m \u001b[39mfor\u001b[39;00m merkez \u001b[39min\u001b[39;00m cember:\n\u001b[0;32m     <a href='vscode-notebook-cell:/c%3A/Users/korkm/Desktop/yaz%C4%B1l%C4%B1m/g%C3%B6r%C3%BCnt%C3%BC%20i%C5%9Fleme%20jupyter%20notlar%C4%B1/.ipynb_checkpoints/g%C3%B6r%C3%BCnt%C3%BC%20i%C5%9Fleme%20jupyter/11.10-fare%20kullan%C4%B1m%C4%B1.ipynb#W0sZmlsZQ%3D%3D?line=18'>19</a>\u001b[0m     cv2\u001b[39m.\u001b[39mcircle(kare,merkez,\u001b[39m3\u001b[39m,(\u001b[39m255\u001b[39m,\u001b[39m255\u001b[39m,\u001b[39m0\u001b[39m),\u001b[39m-\u001b[39m\u001b[39m1\u001b[39m)\n\u001b[1;32m---> <a href='vscode-notebook-cell:/c%3A/Users/korkm/Desktop/yaz%C4%B1l%C4%B1m/g%C3%B6r%C3%BCnt%C3%BC%20i%C5%9Fleme%20jupyter%20notlar%C4%B1/.ipynb_checkpoints/g%C3%B6r%C3%BCnt%C3%BC%20i%C5%9Fleme%20jupyter/11.10-fare%20kullan%C4%B1m%C4%B1.ipynb#W0sZmlsZQ%3D%3D?line=19'>20</a>\u001b[0m cv2\u001b[39m.\u001b[39;49mimshow(\u001b[39m\"\u001b[39;49m\u001b[39mKare\u001b[39;49m\u001b[39m\"\u001b[39;49m,kare)\n\u001b[0;32m     <a href='vscode-notebook-cell:/c%3A/Users/korkm/Desktop/yaz%C4%B1l%C4%B1m/g%C3%B6r%C3%BCnt%C3%BC%20i%C5%9Fleme%20jupyter%20notlar%C4%B1/.ipynb_checkpoints/g%C3%B6r%C3%BCnt%C3%BC%20i%C5%9Fleme%20jupyter/11.10-fare%20kullan%C4%B1m%C4%B1.ipynb#W0sZmlsZQ%3D%3D?line=20'>21</a>\u001b[0m anahtar\u001b[39m=\u001b[39mcv2\u001b[39m.\u001b[39mwaitKey(\u001b[39m1\u001b[39m)\n\u001b[0;32m     <a href='vscode-notebook-cell:/c%3A/Users/korkm/Desktop/yaz%C4%B1l%C4%B1m/g%C3%B6r%C3%BCnt%C3%BC%20i%C5%9Fleme%20jupyter%20notlar%C4%B1/.ipynb_checkpoints/g%C3%B6r%C3%BCnt%C3%BC%20i%C5%9Fleme%20jupyter/11.10-fare%20kullan%C4%B1m%C4%B1.ipynb#W0sZmlsZQ%3D%3D?line=21'>22</a>\u001b[0m \u001b[39mif\u001b[39;00m anahtar\u001b[39m==\u001b[39m\u001b[39m27\u001b[39m:\u001b[39m# esc ye basınca kapanmasını sağlıyor\u001b[39;00m\n",
      "\u001b[1;31merror\u001b[0m: OpenCV(4.6.0) D:\\a\\opencv-python\\opencv-python\\opencv\\modules\\highgui\\src\\window.cpp:967: error: (-215:Assertion failed) size.width>0 && size.height>0 in function 'cv::imshow'\n"
     ]
    },
    {
     "ename": "",
     "evalue": "",
     "output_type": "error",
     "traceback": [
      "\u001b[1;31mThe Kernel crashed while executing code in the the current cell or a previous cell. Please review the code in the cell(s) to identify a possible cause of the failure. Click <a href='https://aka.ms/vscodeJupyterKernelCrash'>here</a> for more info. View Jupyter <a href='command:jupyter.viewOutput'>log</a> for further details."
     ]
    }
   ],
   "source": [
    "import cv2\n",
    "\n",
    "ykl=cv2.VideoCapture(0)\n",
    "\n",
    "cember=[]\n",
    "def fare(tus,x,y,flags,params):\n",
    "    if tus==cv2.EVENT_MOUSEMOVE: # soldaki tuşa bastığında anlamına gelen bir satır\n",
    "        cember.append((x,y))\n",
    "\n",
    "\n",
    "cv2.namedWindow(\"Kare\")\n",
    "cv2.setMouseCallback(\"Kare\",fare)#burada fare fonksiyonunda yapılanları kareler atıyor\n",
    "\n",
    "\n",
    "\n",
    "while 1:\n",
    "    _,kare=ykl.read()\n",
    "    for merkez in cember:\n",
    "        cv2.circle(kare,merkez,3,(255,255,0),-1)\n",
    "    cv2.imshow(\"Kare\",kare)\n",
    "    anahtar=cv2.waitKey(1)\n",
    "    if anahtar==27:# esc ye basınca kapanmasını sağlıyor\n",
    "        break\n",
    "    elif anahtar==ord(\"h\"):\n",
    "        cember=[]\n",
    "\n",
    "ykl.release()\n",
    "cv2.destroyAllWindows()        \n"
   ]
  }
 ],
 "metadata": {
  "kernelspec": {
   "display_name": "Python 3",
   "language": "python",
   "name": "python3"
  },
  "language_info": {
   "codemirror_mode": {
    "name": "ipython",
    "version": 3
   },
   "file_extension": ".py",
   "mimetype": "text/x-python",
   "name": "python",
   "nbconvert_exporter": "python",
   "pygments_lexer": "ipython3",
   "version": "3.10.7"
  }
 },
 "nbformat": 4,
 "nbformat_minor": 5
}
