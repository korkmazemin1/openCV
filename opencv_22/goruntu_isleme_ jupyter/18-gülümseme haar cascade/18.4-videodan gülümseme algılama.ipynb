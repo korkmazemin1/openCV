{
 "cells": [
  {
   "cell_type": "code",
   "execution_count": 9,
   "metadata": {},
   "outputs": [],
   "source": [
    "import cv2\n",
    "\n",
    "smile_cascade=cv2.CascadeClassifier(r\"C:\\openCV\\haarCascade\\smile_haarcascade.xml\")\n",
    "face_cascade=cv2.CascadeClassifier(r\"C:\\openCV\\haarCascade\\haarcascade_frontalface_alt.xml\")\n",
    "\n",
    "#vid=cv2.VideoCapture(r\"C:\\openCV\\test_videos\\8.1 smile.mp4.mp4\")\n",
    "vid=cv2.VideoCapture(0)\n",
    "\n",
    "\n",
    "while 1:\n",
    "    ret,frame=vid.read()\n",
    "    frame=cv2.resize(frame,(640,640))\n",
    "    gray=cv2.cvtColor(frame,cv2.COLOR_BGR2GRAY)\n",
    "\n",
    "    faces=face_cascade.detectMultiScale(gray,1.1,2)\n",
    "\n",
    "    for(x,y,w,h) in faces:\n",
    "        cv2.rectangle(frame,(x,y),(x+w,y+h),(0,0,255),5)    \n",
    "\n",
    "    roi_frame=frame[y:y+h,x:x+w]\n",
    "    roi_gray=gray[y:y+h,x:x+w]    \n",
    "\n",
    "    smiles=smile_cascade.detectMultiScale(roi_gray,1.1,1)\n",
    "\n",
    "    for(sx,sy,sw,sh) in smiles:\n",
    "        cv2.rectangle(roi_frame,(x,y),(x+w,y+h),(0,255,0),2)\n",
    "\n",
    "    cv2.imshow(\"detect_smile\",frame)\n",
    "\n",
    "    if cv2.waitKey(20) & 0xFF == ord('q'): \n",
    "        break\n",
    "\n",
    "vid.release()\n",
    "cv2.destroyAllWindows()        "
   ]
  }
 ],
 "metadata": {
  "kernelspec": {
   "display_name": "Python 3",
   "language": "python",
   "name": "python3"
  },
  "language_info": {
   "codemirror_mode": {
    "name": "ipython",
    "version": 3
   },
   "file_extension": ".py",
   "mimetype": "text/x-python",
   "name": "python",
   "nbconvert_exporter": "python",
   "pygments_lexer": "ipython3",
   "version": "3.10.7"
  }
 },
 "nbformat": 4,
 "nbformat_minor": 5
}
