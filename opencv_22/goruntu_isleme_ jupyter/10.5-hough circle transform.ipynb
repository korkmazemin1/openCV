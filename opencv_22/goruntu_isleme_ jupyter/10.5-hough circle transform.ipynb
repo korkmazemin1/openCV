{
 "cells": [
  {
   "cell_type": "code",
   "execution_count": 2,
   "id": "7addd2c1",
   "metadata": {},
   "outputs": [],
   "source": [
    "import cv2\n",
    "import numpy as np\n",
    "\n",
    "para=cv2.imread(r\"C:\\\\openCV\\\\para_sayma_projesi\\\\Data\\\\input\\\\money.jpg\")\n",
    "balon=cv2.imread(r\"C:\\Users\\korkm\\Downloads\\5.2 balls.jpg.jpg\")\n",
    "\n",
    "gri_p=cv2.cvtColor(para,cv2.COLOR_BGR2GRAY)\n",
    "gri_b=cv2.cvtColor(balon,cv2.COLOR_BGR2GRAY)\n",
    "\n",
    "\n",
    "para_blur=cv2.medianBlur(gri_p,5)# 2. parametrenin pozitif tek bir sayı olması gerekir\n",
    "balon_blur=cv2.medianBlur(gri_b,5)\n",
    "\n",
    "cember_para=cv2.HoughCircles(para_blur,cv2.HOUGH_GRADIENT,1,para.shape[0]/4,param1=200,param2=10,minRadius=15,maxRadius=89)# 4.parametrede çemberler arasındaki azami mesafeyi belirttik bunun için ideal sayıyı yazıldı eğer bozukluklar meyadan gelirse bu sayı ile oynayabilirsin \n",
    "# param değerleri metoda özeldir her bu hough metodunda bu param değerlerini koru\n",
    "#param değerleri ile oyanayabilirsin\n",
    "# min max radius değerleri ile çemberlerin yarıçap sınırını belirlemiş oluruz\n",
    "\n",
    "if cember_para is not None:\n",
    "    cember_para=np.uint16(np.around(cember_para))# np around ile cember değerlerini  yuvarlayıp uint 16 formatında aldık\n",
    "    for i in cember_para[0,:]: #çemberdeki değerleri bir bir i ye atılıyor\n",
    "        cv2.circle(para,(i[0],i[1]),i[2],(0,255,0),2)\n",
    "\n",
    "\n",
    "cv2.imshow(\"tespit\",para)        \n",
    "\n",
    "cember_balon=cv2.HoughCircles(balon_blur,cv2.HOUGH_GRADIENT,1,balon.shape[0]/10,param1=200,param2=10,minRadius=30,maxRadius=89)# 4.parametrede çemberler arasındaki azami mesafeyi belirttik bunun için ideal sayıyı yazıldı eğer bozukluklar meyadan gelirse bu sayı ile oynayabilirsin \n",
    "# param değerleri metoda özeldir her bu hough metodunda bu param değerlerini koru\n",
    "#param değerleri ile oyanayabilirsin\n",
    "# min max radius değerleri ile çemberlerin yarıçap sınırını belirlemiş oluruz\n",
    "\n",
    "if cember_balon is not None:\n",
    "    cember_balon=np.uint16(np.around(cember_balon))# np around ile cember değerlerini  yuvarlayıp uint 16 formatında aldık\n",
    "    for i in cember_balon[0,:]: #çemberdeki değerleri bir bir i ye atılıyor\n",
    "        cv2.circle(balon,(i[0],i[1],),i[2],(0,255,0),2)\n",
    "\n",
    "\n",
    "cv2.imshow(\"tespit2\",balon)        \n",
    "cv2.waitKey(0)\n",
    "cv2.destroyAllWindows()"
   ]
  }
 ],
 "metadata": {
  "kernelspec": {
   "display_name": "Python 3 (ipykernel)",
   "language": "python",
   "name": "python3"
  },
  "language_info": {
   "codemirror_mode": {
    "name": "ipython",
    "version": 3
   },
   "file_extension": ".py",
   "mimetype": "text/x-python",
   "name": "python",
   "nbconvert_exporter": "python",
   "pygments_lexer": "ipython3",
   "version": "3.10.7"
  }
 },
 "nbformat": 4,
 "nbformat_minor": 5
}
