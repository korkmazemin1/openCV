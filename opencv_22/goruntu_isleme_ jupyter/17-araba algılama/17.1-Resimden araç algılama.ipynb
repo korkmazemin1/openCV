{
 "cells": [
  {
   "cell_type": "code",
   "execution_count": 12,
   "metadata": {},
   "outputs": [],
   "source": [
    "import cv2\n",
    "\n",
    "img=cv2.imread(r\"C:\\Users\\korkm\\Downloads\\campbell-3ZUsNJhi_Ik-unsplash (1).jpg\")\n",
    "\n",
    "\n",
    "car_hascade=cv2.CascadeClassifier(r\"C:\\openCV\\haarCascade\\carr.xml\")#göz için haarcascade\n",
    "\n",
    "gray=cv2.cvtColor(img,cv2.COLOR_BGR2GRAY)\n",
    "\n",
    "cars=car_hascade.detectMultiScale(gray,1.7,1)# 1.3 oranında küçülttük -- belirli bir bölgede 5 pencere bulursa yüzü saptasın(haar cascade )\n",
    "\n",
    "for (x, y, w, h) in cars:\n",
    "    cv2.rectangle(img, (x, y), (x+w, y+h), (0, 0, 255), 2)\n",
    "\n",
    "\n",
    "cv2.imshow(\"cars_detect\", img)\n",
    "\n",
    "cv2.waitKey(0)\n",
    "cv2.destroyAllWindows()\n"
   ]
  }
 ],
 "metadata": {
  "kernelspec": {
   "display_name": "Python 3",
   "language": "python",
   "name": "python3"
  },
  "language_info": {
   "codemirror_mode": {
    "name": "ipython",
    "version": 3
   },
   "file_extension": ".py",
   "mimetype": "text/x-python",
   "name": "python",
   "nbconvert_exporter": "python",
   "pygments_lexer": "ipython3",
   "version": "3.10.7"
  }
 },
 "nbformat": 4,
 "nbformat_minor": 5
}
