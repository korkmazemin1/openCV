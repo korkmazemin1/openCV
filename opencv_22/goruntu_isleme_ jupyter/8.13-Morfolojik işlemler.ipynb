{
 "cells": [
  {
   "cell_type": "code",
   "execution_count": 12,
   "id": "095b881f",
   "metadata": {},
   "outputs": [],
   "source": [
    "import cv2\n",
    "import numpy as np \n",
    "\n",
    "img=cv2.imread(r\"C:\\Users\\korkm\\Downloads\\14.1 smile.jpg.jpg\",0)\n",
    "#erozyon yöntemi-- basitçe resmi bozuyo r yoğun kısımların yoğunluğunu arttırıyor gibi\n",
    "kernel=np.ones((2,2),np.uint8)  #ones lar bozma oranını veriyor \n",
    "eroision=cv2.erode(img,kernel,iterations=15)#2. parametre dizey tipini belirtir--3.paramtre tekrar sayısını alır\n",
    "cv2.imshow(\"img\",img)\n",
    "cv2.imshow(\"erozoyon\",eroision)\n",
    "\n",
    "cv2.waitKey(0)\n",
    "cv2.destroyAllWindows()\n",
    "\n"
   ]
  },
  {
   "cell_type": "code",
   "execution_count": 13,
   "id": "eec81bbd",
   "metadata": {},
   "outputs": [],
   "source": [
    "import cv2\n",
    "import numpy as np \n",
    "\n",
    "img=cv2.imread(r\"C:\\Users\\korkm\\Downloads\\14.1 smile.jpg.jpg\",0)\n",
    "# kalınlaştırma yöntemi\n",
    "kernel=np.ones((5,5),np.uint8)\n",
    "dilation=cv2.dilate(img,kernel,iterations=2)\n",
    "\n",
    "cv2.imshow(\"img\",img)\n",
    "cv2.imshow(\"kalin\",dilation)\n",
    "\n",
    "\n",
    "cv2.waitKey(0)\n",
    "cv2.destroyAllWindows()\n",
    "\n"
   ]
  },
  {
   "cell_type": "code",
   "execution_count": 27,
   "id": "da557b90",
   "metadata": {},
   "outputs": [],
   "source": [
    "import cv2\n",
    "import numpy as np \n",
    "\n",
    "img=cv2.imread(r\"C:\\Users\\korkm\\Downloads\\14.1 smile.jpg.jpg\",0)\n",
    "# morfolojix yöntemi gürültü giderici olarak düşünebiliriz ve kesinlikle netlik kayboluyor\n",
    "kernel=np.ones((30,30),np.uint8)\n",
    "morfoloji=cv2.morphologyEx(img,cv2.MORPH_OPEN,kernel)#open siyahlarla close ise beyazlarla kapatıyor gibi teknik detaylar için opencv nin resmi sitesine bak\n",
    "morfoloji2=cv2.morphologyEx(img,cv2.MORPH_CLOSE,kernel)\n",
    "morfoloji3=cv2.morphologyEx(img,cv2.MORPH_GRADIENT,kernel)#siyah beyaz matrislerinin yerlerini değiştikten sonra gürültü gideriyor--gözlem\n",
    "morfoloji4=cv2.morphologyEx(img,cv2.MORPH_TOPHAT,kernel)\n",
    "\n",
    "\n",
    "cv2.imshow(\"img\",img)\n",
    "#cv2.imshow(\"morf\",morfoloji)\n",
    "#cv2.imshow(\"morf2\",morfoloji2)\n",
    "#cv2.imshow(\"morf3\",morfoloji3)\n",
    "cv2.imshow(\"morf4\",morfoloji4)\n",
    "\n",
    "\n",
    "cv2.waitKey(0)\n",
    "cv2.destroyAllWindows()\n",
    "\n"
   ]
  }
 ],
 "metadata": {
  "kernelspec": {
   "display_name": "Python 3 (ipykernel)",
   "language": "python",
   "name": "python3"
  },
  "language_info": {
   "codemirror_mode": {
    "name": "ipython",
    "version": 3
   },
   "file_extension": ".py",
   "mimetype": "text/x-python",
   "name": "python",
   "nbconvert_exporter": "python",
   "pygments_lexer": "ipython3",
   "version": "3.10.7"
  }
 },
 "nbformat": 4,
 "nbformat_minor": 5
}
