{
 "cells": [
  {
   "cell_type": "code",
   "execution_count": 2,
   "id": "d0c662b2",
   "metadata": {},
   "outputs": [
    {
     "name": "stdout",
     "output_type": "stream",
     "text": [
      "Uygulamalarla OpenCV\n",
      "\n"
     ]
    }
   ],
   "source": [
    "from PIL import Image\n",
    "import pytesseract\n",
    "\n",
    "img=Image.open(r\"C:\\Users\\korkm\\Downloads\\3.1 text.png.png\")\n",
    "\n",
    "text=pytesseract.image_to_string(img,lang=\"eng\")\n",
    "\n",
    "print(text)\n",
    "\n",
    "#C:\\Program Files\\Tesseract-OCR"
   ]
  }
 ],
 "metadata": {
  "kernelspec": {
   "display_name": "Python 3 (ipykernel)",
   "language": "python",
   "name": "python3"
  },
  "language_info": {
   "codemirror_mode": {
    "name": "ipython",
    "version": 3
   },
   "file_extension": ".py",
   "mimetype": "text/x-python",
   "name": "python",
   "nbconvert_exporter": "python",
   "pygments_lexer": "ipython3",
   "version": "3.10.7"
  }
 },
 "nbformat": 4,
 "nbformat_minor": 5
}
