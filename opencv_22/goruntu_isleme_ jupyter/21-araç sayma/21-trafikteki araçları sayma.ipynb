{
 "cells": [
  {
   "cell_type": "code",
   "execution_count": 12,
   "metadata": {},
   "outputs": [],
   "source": [
    "import cv2\n",
    "vid=cv2.VideoCapture(r\"C:\\Users\\korkm\\Downloads\\4.2 traffic.avi.avi\")\n",
    "backsub=cv2.createBackgroundSubtractorMOG2()# arka plan kaldırma\n",
    "c=0# sayaç \n",
    "while 1 :\n",
    "    ret,frame=vid.read()\n",
    "    if ret:\n",
    "        fgmask=backsub.apply(frame)\n",
    "        cv2.line(frame,(50,0),(50,300),(255,0,0))####!!!! bu kısımda kullanacağın videonun boyutunu .shape ile öğrenip ona göre çizgi çizmen gerekir burayı sabit bırakma!!!!!\n",
    "        cv2.line(frame,(70,0),(70,300),(255,0,0))\n",
    "\n",
    "\n",
    "        contours,hierarchy=cv2.findContours(fgmask,cv2.RETR_TREE,cv2.CHAIN_APPROX_SIMPLE)\n",
    "        \n",
    "        try:hierarchy=hierarchy[0]\n",
    "        except:hierarchy=[]\n",
    "\n",
    "        for contour,hierarchy in zip(contours,hierarchy):\n",
    "            (x,y,w,h)=cv2.boundingRect(contour)\n",
    "            if w>40 and h>40:# eğer köşelerin yani bulunan köşelerin yüksekliği ve uzunluğu 40 dan büyük ise o bir arabadır \n",
    "                cv2.rectangle(frame,(x,y),(x+w,y+h),(255,0,0),3)\n",
    "                if x>50 and x<70 :# x in kordinatlarına göre belirlenen yerde ise sayacı bir arttırırız aracın uzunluğu halihazırda 40 olduğu için belirttiğimiz alanda tekrar sayma ihtimali yok çünkü belirttiğimiz alanın uzunluğu 20 \n",
    "                    c+=1\n",
    "                \n",
    "        cv2.putText(frame,f\"cars:{str(c)} \",(0,100),cv2.FONT_HERSHEY_SIMPLEX,2,(0,0,255),1,cv2.LINE_AA)\n",
    "        \n",
    "        \n",
    "        \n",
    "        \n",
    "        \n",
    "        \n",
    "        \n",
    "        cv2.imshow(\"CAR counter\",frame)\n",
    "        cv2.imshow(\"mask\",fgmask)\n",
    "\n",
    "\n",
    "    if cv2.waitKey(20) &0xFF ==ord('q'):\n",
    "        break\n",
    "\n",
    "vid.release()\n",
    "cv2.destroyAllWindows()    \n",
    "\n",
    "\n"
   ]
  },
  {
   "cell_type": "code",
   "execution_count": null,
   "id": "af94ec9c",
   "metadata": {},
   "outputs": [],
   "source": []
  }
 ],
 "metadata": {
  "kernelspec": {
   "display_name": "Python 3",
   "language": "python",
   "name": "python3"
  },
  "language_info": {
   "codemirror_mode": {
    "name": "ipython",
    "version": 3
   },
   "file_extension": ".py",
   "mimetype": "text/x-python",
   "name": "python",
   "nbconvert_exporter": "python",
   "pygments_lexer": "ipython3",
   "version": "3.10.7"
  }
 },
 "nbformat": 4,
 "nbformat_minor": 5
}
