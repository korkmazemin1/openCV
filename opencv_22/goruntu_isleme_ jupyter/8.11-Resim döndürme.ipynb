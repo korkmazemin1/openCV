{
 "cells": [
  {
   "cell_type": "code",
   "execution_count": 4,
   "metadata": {},
   "outputs": [],
   "source": [
    "import cv2\n",
    "import numpy as np\n",
    "img= cv2.imread(r\"C:\\Users\\korkm\\Downloads\\14.1 smile.jpg.jpg\",0)\n",
    "row,col= img.shape\n",
    "\n",
    "M = cv2.getRotationMatrix2D((col/2,row/2),90,1)# satırı sütünu tek argümandan olarak al--- ilk argümanda satır ve sütünu ikiye bölerek merkezin kordinatlarını verdik---90 derece döndürdüğümüzü belirttik \n",
    "# 1 ölçek belirtir kaç yazarsan o kadar büyük gösterir---- aynı zamanda merkezi değiştirebilirsin tabiki \n",
    "dst=cv2.warpAffine(img,M,(col,row))\n",
    "\n",
    "cv2.imshow(\"dst\",dst)\n",
    "\n",
    "cv2.waitKey(0)\n",
    "cv2.destroyAllWindows()"
   ]
  }
 ],
 "metadata": {
  "kernelspec": {
   "display_name": "Python 3",
   "language": "python",
   "name": "python3"
  },
  "language_info": {
   "codemirror_mode": {
    "name": "ipython",
    "version": 3
   },
   "file_extension": ".py",
   "mimetype": "text/x-python",
   "name": "python",
   "nbconvert_exporter": "python",
   "pygments_lexer": "ipython3",
   "version": "3.10.7"
  }
 },
 "nbformat": 4,
 "nbformat_minor": 5
}
