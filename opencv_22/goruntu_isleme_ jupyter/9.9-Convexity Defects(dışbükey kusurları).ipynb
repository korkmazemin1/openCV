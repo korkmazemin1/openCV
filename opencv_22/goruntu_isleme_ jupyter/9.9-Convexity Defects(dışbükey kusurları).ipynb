{
 "cells": [
  {
   "cell_type": "code",
   "execution_count": 4,
   "id": "8b56bebf",
   "metadata": {},
   "outputs": [],
   "source": [
    "import cv2\n",
    "\n",
    "img=cv2.imread(r\"C:\\Users\\korkm\\Downloads\\9.1 star.png.png\")\n",
    "\n",
    "gri=cv2.cvtColor(img,cv2.COLOR_BGR2GRAY)\n",
    "\n",
    "ret,thresh=cv2.threshold(gri,127,255,0)\n",
    "\n",
    "#cv2.imshow(\"yildiz\",thresh)\n",
    "\n",
    "contours,_=cv2.findContours(thresh,2,1)\n",
    "\n",
    "hull=cv2.convexHull(contours[0],returnPoints=False)\n",
    "\n",
    "defects=cv2.convexityDefects(contours[0],hull)\n",
    "\n",
    "for i in range(defects.shape[0]): \n",
    "    s,e,f,d=defects[i,0]#start point,end point,farthest point(içe bükülmüş köşeler),distance\n",
    "    start= tuple((contours[0])[s][0])\n",
    "    end= tuple((contours[0])[e][0])\n",
    "    far= tuple((contours[0])[f][0])\n",
    "    cv2.line(img,start,end,[0,255,0],2)\n",
    "    cv2.circle(img,far,5,[0,255,0],-1)\n",
    "\n",
    "cv2.imshow(\"img\",img)\n",
    "cv2.waitKey(0)\n",
    "cv2.destroyAllWindows()\n",
    "\n",
    "cv2.waitKey(0)\n",
    "cv2.destroyAllWindows()\n"
   ]
  }
 ],
 "metadata": {
  "kernelspec": {
   "display_name": "Python 3 (ipykernel)",
   "language": "python",
   "name": "python3"
  },
  "language_info": {
   "codemirror_mode": {
    "name": "ipython",
    "version": 3
   },
   "file_extension": ".py",
   "mimetype": "text/x-python",
   "name": "python",
   "nbconvert_exporter": "python",
   "pygments_lexer": "ipython3",
   "version": "3.10.7"
  }
 },
 "nbformat": 4,
 "nbformat_minor": 5
}
