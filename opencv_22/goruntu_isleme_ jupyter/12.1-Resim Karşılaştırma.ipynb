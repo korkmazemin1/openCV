{
 "cells": [
  {
   "cell_type": "code",
   "execution_count": 20,
   "metadata": {},
   "outputs": [
    {
     "name": "stdout",
     "output_type": "stream",
     "text": [
      "same size\n",
      "there is different pixels\n"
     ]
    }
   ],
   "source": [
    "import cv2\n",
    "import numpy as np \n",
    "\n",
    "# bu işlemi yaparaken resimlerin piksellerini eşitlemeyi unutma\n",
    "img=cv2.imread(r\"C:\\Users\\korkm\\Downloads\\1.1 aircraft.jpg.jpg\")\n",
    "img=cv2.resize(img,(640,550))\n",
    "img0=cv2.imread(r\"C:\\Users\\korkm\\Downloads\\346495652_1717347538699001_3079077461777056997_n.jpg\")\n",
    "img0=cv2.resize(img0,(640,550))# eğer pikselleri eşit değilse resimler birbirinden farklı resimler olarak kabul edilir\n",
    "imgb=cv2.medianBlur(img,7)\n",
    "if img.shape== img0.shape:\n",
    "    print(\"same size\")\n",
    "else:\n",
    "    print(\"not same\")    \n",
    "# diff means difference\n",
    "diff=cv2.subtract(img0,imgb)  # eğer pikselleri farklı iki resim girersen hata verir  \n",
    "b,g,r=cv2.split(diff)# diffi parçalayıp tek tek bgr değerlerine erişiyorum\n",
    "if cv2.countNonZero(b)==cv2.countNonZero(g)==cv2.countNonZero(g):# b nin içindeki sıfır olmayan değerleri bulur buda bize resimler arasındaki blue farklarını gösterir\n",
    "    print(\"all same\")\n",
    "else:\n",
    "    print(\"there is different pixels\")    \n",
    "cv2.imshow(\"difference\",diff)\n",
    "cv2.waitKey(0)\n",
    "cv2.destroyAllWindows()\n"
   ]
  }
 ],
 "metadata": {
  "kernelspec": {
   "display_name": "Python 3",
   "language": "python",
   "name": "python3"
  },
  "language_info": {
   "codemirror_mode": {
    "name": "ipython",
    "version": 3
   },
   "file_extension": ".py",
   "mimetype": "text/x-python",
   "name": "python",
   "nbconvert_exporter": "python",
   "pygments_lexer": "ipython3",
   "version": "3.10.7"
  }
 },
 "nbformat": 4,
 "nbformat_minor": 5
}
