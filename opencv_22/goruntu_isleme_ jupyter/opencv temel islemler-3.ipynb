{
 "cells": [
  {
   "cell_type": "code",
   "execution_count": 3,
   "metadata": {},
   "outputs": [
    {
     "name": "stdout",
     "output_type": "stream",
     "text": [
      "[47 40 39]\n",
      "(353, 600, 3)\n",
      "40\n",
      "250\n",
      "resim: 150\n"
     ]
    }
   ],
   "source": [
    "import cv2 \n",
    "import numpy as np \n",
    "rsm=cv2.imread(r\"C:\\Users\\korkm\\Pictures\\depositphotos_360558546-stock-photo-train-arriving-at-famous-nine.jpg\")\n",
    "renk=rsm[100,250]# burada verilen kordinatlardaki renk değerlerini inceledik\n",
    "print(renk)# bütün renk değerlerini aldık bgr formatında\n",
    "boyut=rsm.shape # bu fonksiyon ile gröntünün boyutlarını alırız\n",
    "print(boyut)\n",
    "mavi=rsm[300,400,0]# mavi renk değerini aldık\n",
    "print(mavi) # sadece mavinin reğerlerini almak için renk değerlerinin 0.indisini aldık\n",
    "rsm[300,400,0]=250 #burada pikselin mavi değerini kendi elimizle değiştirdik \n",
    "mavi1=rsm[300,400,0]\n",
    "print(mavi1)\n",
    "\n",
    "y_mavi=rsm.item((300,400,0))# y=yeni mavi y leri her zaman yeni  olarak s \n",
    "\n",
    "rsm.itemset((300,400,0),150)# rengi direkt değiştirdik en mantıklı kod bu\n",
    "print(\"resim:\",rsm[300,400,0])\n",
    "cv2.imshow(\"resim\",rsm)\n",
    "cv2.waitKey(0)\n",
    "cv2.destroyAllWindows()\n",
    "\n"
   ]
  },
  {
   "cell_type": "code",
   "execution_count": 1,
   "id": "32e7ae29",
   "metadata": {},
   "outputs": [
    {
     "name": "stdout",
     "output_type": "stream",
     "text": [
      "(353, 600, 3)\n"
     ]
    }
   ],
   "source": [
    "#ROI-Region of Interest-ilgi alanı-resim üzerinde ilgilendiğimiz alan\n",
    "import cv2\n",
    "import numpy as np\n",
    "rsm=cv2.imread(r\"C:\\Users\\korkm\\Pictures\\depositphotos_360558546-stock-photo-train-arriving-at-famous-nine.jpg\")\n",
    "\n",
    "print(rsm.shape)# (y,x,kanal) şeklinde yazar\n",
    "\n",
    "\n",
    "ROI=rsm[50:210,180:900]#  resimden istediğim kısmı aldım\n",
    "cv2.imshow(\"resim\",ROI)\n",
    "cv2.waitKey(0)\n",
    "cv2.destroyAllWindows()"
   ]
  },
  {
   "cell_type": "code",
   "execution_count": 1,
   "id": "1a9fd66b",
   "metadata": {},
   "outputs": [],
   "source": [
    "#Resimlerde toplama\n",
    "import numpy as np\n",
    "import cv2\n",
    "tuval=np.zeros((512,512,3),np.uint8)+255 \n",
    "cv2.circle(tuval,(256,256),60,(0,0,255),-1)\n",
    "tuval2=np.zeros((512,512,3),np.uint8)+255\n",
    "cv2.rectangle(tuval2,(200,200),(512,512),(0,255,0),-1)\n",
    "yeni_tuval=cv2.add(tuval,tuval2)# görüntüleri topladık bu şu anlama geliyor yalnızca kesişen bölgelerdeki renk değerleri toplanır(b,g,r booyutunda)\n",
    "cv2.imshow(\"yeni tuval\",yeni_tuval)\n",
    "cv2.imshow(\"tuval2\",tuval2)\n",
    "cv2.imshow(\"tuval\",tuval)\n",
    "cv2.waitKey(0)\n",
    "cv2.destroyAllWindows()"
   ]
  },
  {
   "cell_type": "code",
   "execution_count": 15,
   "id": "ed4229a0",
   "metadata": {},
   "outputs": [],
   "source": [
    "#ağırlıklı toplama işlemi\n",
    "import numpy as np\n",
    "import cv2\n",
    "tuval=np.zeros((512,512,3),np.uint8)+255 \n",
    "cv2.circle(tuval,(256,256),60,(0,0,255),-1)\n",
    "tuval2=np.zeros((512,512,3),np.uint8)+255\n",
    "cv2.rectangle(tuval2,(200,200),(512,512),(0,255,0),-1)\n",
    "\n",
    "dst = cv2.addWeighted(tuval,0.5,tuval2,0.5,0)# ağırlıklı toplamada resmin yanına ağırlık yüzdesi ile beraber son prametreye sabit sayı yazılır\n",
    "# son parametrede ise pozitif değerler aydınlatır negatif değerler ekranı karartır\n",
    "cv2.imshow(\"tuval2\",tuval2)\n",
    "cv2.imshow(\"tuval\",tuval)\n",
    "cv2.imshow(\"dst\",dst)\n",
    "\n",
    "\n",
    "cv2.waitKey(0)\n",
    "cv2.destroyAllWindows()"
   ]
  },
  {
   "cell_type": "code",
   "execution_count": 21,
   "id": "382b50bf",
   "metadata": {},
   "outputs": [],
   "source": [
    "# Renk uzayı -fotoğraflar için\n",
    "import cv2\n",
    "import numpy as np\n",
    "#BGR--> blue green red\n",
    "rsm=cv2.imread(r\"C:\\Users\\korkm\\Pictures\\depositphotos_360558546-stock-photo-train-arriving-at-famous-nine.jpg\")\n",
    "rsm1_rgb=cv2.cvtColor(rsm,cv2.COLOR_BGR2RGB)# BGR renk sisteminden RGB ye döndük\n",
    "rsm2_hsv=cv2.cvtColor(rsm,cv2.COLOR_BGR2HSV)#BGR renk sisteminden HSV ye döndük\n",
    "rsm3_grey=cv2.cvtColor(rsm,cv2.COLOR_BGR2GRAY)\n",
    "cv2.imshow(\"resim1_rgb\",rsm1_rgb)\n",
    "cv2.imshow(\"resim\",rsm)\n",
    "cv2.imshow(\"resim2_hsv\",rsm2_hsv)\n",
    "cv2.imshow(\"resim3_gray\",rsm3_grey)\n",
    "cv2.waitKey(0) \n",
    "cv2.destroyAllWindows()\n"
   ]
  },
  {
   "cell_type": "code",
   "execution_count": 3,
   "id": "821c493b",
   "metadata": {},
   "outputs": [],
   "source": [
    "# renk uzayı video\n",
    "import cv2\n",
    "import numpy as np\n",
    "yakala=cv2.VideoCapture(r\"C:\\Users\\korkm\\Downloads\\Nature Beautiful short video 720p HD.mp4\")\n",
    "while True:\n",
    "    ret,kare=yakala.read()\n",
    "    if ret==0:\n",
    "        break\n",
    "    kare1=cv2.cvtColor(kare,cv2.COLOR_BGR2RGB)\n",
    "    kare2=cv2.cvtColor(kare,cv2.COLOR_BGR2HSV)# kareleri- frameleri- tek tek çekerek renk uzaylarını değiştirdik\n",
    "    cv2.imshow(\"video\",kare1)\n",
    "    cv2.imshow(\"video2\",kare2)\n",
    "    if cv2.waitKey(30)& 0xFF== ord(\"q\"):\n",
    "        break\n",
    "    \n",
    "yakala.release() \n",
    "cv2.destroyAllWindows()   "
   ]
  },
  {
   "cell_type": "code",
   "execution_count": 1,
   "id": "2412a611",
   "metadata": {},
   "outputs": [],
   "source": [
    "import cv2\n",
    "import numpy as np\n",
    "\n",
    "cap=cv2.VideoCapture(0)\n",
    "def bos(x):\n",
    "    pass\n",
    "cv2.namedWindow(\"Trackbar\")\n",
    "cv2.resizeWindow(\"Trackbar\",500,500)\n",
    "\n",
    "cv2.createTrackbar(\"Lower-H\",\"Trackbar\",0,180,bos)\n",
    "cv2.createTrackbar(\"Lower-S\",\"Trackbar\",0,255,bos)\n",
    "cv2.createTrackbar(\"Lower-V\",\"Trackbar\",0,255,bos)\n",
    "\n",
    "cv2.createTrackbar(\"Upper-H\",\"Trackbar\",0,180,bos)\n",
    "cv2.createTrackbar(\"Upper-S\",\"Trackbar\",0,255,bos)\n",
    "cv2.createTrackbar(\"Upper-V\",\"Trackbar\",0,255,bos)\n",
    "\n",
    "\n",
    "\n",
    "cv2.setTrackbarPos(\"Upper-H\",\"Trackbar\",180)#trackbardaki belirlediğimiz alanların değerlerini başlangıç için 180 olarak belirledik\n",
    "cv2.setTrackbarPos(\"Upper-S\",\"Trackbar\",255)\n",
    "cv2.setTrackbarPos(\"Upper-V\",\"Trackbar\",255)\n",
    "while True:\n",
    "    ret,frame=cap.read()\n",
    "    frame=cv2.flip(frame,1)# kameredan gelen görüntünün y eksenine göre yansımasını alarak doğru bir şekilde görüntü almayı sağladık\n",
    "    \n",
    "    frame_hsv=cv2.cvtColor(frame,cv2.COLOR_BGR2HSV)\n",
    "    \n",
    "    lower_h=cv2.getTrackbarPos(\"Lower-H\",\"Trackbar\")\n",
    "    lower_s=cv2.getTrackbarPos(\"Lower-S\",\"Trackbar\")\n",
    "    lower_v=cv2.getTrackbarPos(\"Lower-V\",\"Trackbar\")\n",
    "\n",
    "    Upper_h=cv2.getTrackbarPos(\"Upper-H\",\"Trackbar\")\n",
    "    Upper_s=cv2.getTrackbarPos(\"Upper-S\",\"Trackbar\")\n",
    "    Upper_v=cv2.getTrackbarPos(\"Upper-V\",\"Trackbar\")\n",
    "\n",
    "    lower_color=np.array([lower_h,lower_s,lower_v])\n",
    "    Upper_color=np.array([Upper_h,Upper_s,Upper_v])\n",
    "\n",
    "    mask=cv2.inRange(frame_hsv,lower_color,Upper_color)\n",
    "    cv2.imshow(\"original\",frame)\n",
    "    cv2.imshow(\"Mask\",mask)\n",
    "    if cv2.waitKey(20) & 0xFF == ord(\"q\"):\n",
    "        break\n",
    "\n",
    "cap.release()\n",
    "cv2.destroyAllWindows()\n"
   ]
  }
 ],
 "metadata": {
  "kernelspec": {
   "display_name": "Python 3.10.7 64-bit",
   "language": "python",
   "name": "python3"
  },
  "language_info": {
   "codemirror_mode": {
    "name": "ipython",
    "version": 3
   },
   "file_extension": ".py",
   "mimetype": "text/x-python",
   "name": "python",
   "nbconvert_exporter": "python",
   "pygments_lexer": "ipython3",
   "version": "3.10.7"
  },
  "vscode": {
   "interpreter": {
    "hash": "fbc70147c0b17e1466092411e4aa22fe65bb9bc84e33454ec8a52da77b41d98a"
   }
  }
 },
 "nbformat": 4,
 "nbformat_minor": 5
}
