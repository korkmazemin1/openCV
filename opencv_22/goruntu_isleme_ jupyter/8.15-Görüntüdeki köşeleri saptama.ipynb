{
 "cells": [
  {
   "cell_type": "code",
   "execution_count": 16,
   "metadata": {},
   "outputs": [],
   "source": [
    "import cv2\n",
    "import numpy as np\n",
    "\n",
    "img1=cv2.imread(r\"C:\\Users\\korkm\\Downloads\\15.2 contour.png.png\")\n",
    "img=cv2.imread(r\"C:\\Users\\korkm\\Downloads\\15.1 text.png.png\")\n",
    "\n",
    "gray=cv2.cvtColor(img,cv2.COLOR_BGR2GRAY)\n",
    "gray=np.float32(gray)\n",
    "corners=cv2.goodFeaturesToTrack(gray,10,0.01,10)# 2.parametre maksimum köşe sayısı\n",
    "# 4. parametre köşeler arası minimum mesafe 3. stabil\n",
    "# fotoğrafalar kusursuz olmadığından köşe sınırını arttırırsan daha fazla köşe bulunacaktır\n",
    "corners =np.int0(corners)#çember çizmemiz gerektiğinden floaatı integer yaptım\n",
    "\n",
    "for corner in corners:\n",
    "    x,y=corner.ravel()# köşelerin kordinatlarını tek satıra indirgemek için bunu yaptık\n",
    "    cv2.circle(img,(x,y),3,(0,0,255),-1)# bulduğumuz köşelerin merkezleri ile  çemberler oluşturduk         \n",
    "\n",
    "cv2.imshow(\"köseler\",img)    \n",
    "\n",
    "cv2.waitKey(0)\n",
    "cv2.destroyAllWindows()\n"
   ]
  }
 ],
 "metadata": {
  "kernelspec": {
   "display_name": "Python 3",
   "language": "python",
   "name": "python3"
  },
  "language_info": {
   "codemirror_mode": {
    "name": "ipython",
    "version": 3
   },
   "file_extension": ".py",
   "mimetype": "text/x-python",
   "name": "python",
   "nbconvert_exporter": "python",
   "pygments_lexer": "ipython3",
   "version": "3.10.7"
  }
 },
 "nbformat": 4,
 "nbformat_minor": 5
}
