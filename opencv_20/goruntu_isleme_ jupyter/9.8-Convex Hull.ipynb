{
 "cells": [
  {
   "cell_type": "code",
   "execution_count": 5,
   "metadata": {},
   "outputs": [],
   "source": [
    "import cv2\n",
    "import numpy as np\n",
    "\n",
    "img=cv2.imread(r\"C:\\Users\\korkm\\Downloads\\8.1 map.jpg.jpg\")\n",
    "\n",
    "gray=cv2.cvtColor(img,cv2.COLOR_BGR2GRAY)\n",
    "\n",
    "blur=cv2.blur(gray,(3,3)) #resmi yumuşatmak için blurladıK\n",
    "\n",
    "ret,thresh=cv2.threshold(blur,40,255,cv2.THRESH_BINARY)# sınır parametreleri ile oynayıp istediğin görünümü elde edebilirsin\n",
    "\n",
    "\n",
    "cv2.imshow(\"asil\",img)\n",
    "cv2.imshow(\"gri\",gray)\n",
    "cv2.imshow(\"blur\",blur)\n",
    "cv2.imshow(\"thresh\",thresh)\n",
    "\n",
    "cv2.waitKey(0)\n",
    "cv2.destroyAllWindows()\n",
    "\n",
    "\n",
    "\n",
    "\n"
   ]
  },
  {
   "cell_type": "code",
   "execution_count": null,
   "id": "bff4a29f",
   "metadata": {},
   "outputs": [],
   "source": []
  }
 ],
 "metadata": {
  "kernelspec": {
   "display_name": "Python 3",
   "language": "python",
   "name": "python3"
  },
  "language_info": {
   "codemirror_mode": {
    "name": "ipython",
    "version": 3
   },
   "file_extension": ".py",
   "mimetype": "text/x-python",
   "name": "python",
   "nbconvert_exporter": "python",
   "pygments_lexer": "ipython3",
   "version": "3.10.7"
  }
 },
 "nbformat": 4,
 "nbformat_minor": 5
}
