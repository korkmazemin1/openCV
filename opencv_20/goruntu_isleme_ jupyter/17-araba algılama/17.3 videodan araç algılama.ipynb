{
 "cells": [
  {
   "cell_type": "code",
   "execution_count": 4,
   "id": "f91575d9",
   "metadata": {},
   "outputs": [
    {
     "ename": "error",
     "evalue": "OpenCV(4.6.0) D:\\a\\opencv-python\\opencv-python\\opencv\\modules\\imgproc\\src\\resize.cpp:4052: error: (-215:Assertion failed) !ssize.empty() in function 'cv::resize'\n",
     "output_type": "error",
     "traceback": [
      "\u001b[1;31m---------------------------------------------------------------------------\u001b[0m",
      "\u001b[1;31merror\u001b[0m                                     Traceback (most recent call last)",
      "\u001b[1;32mc:\\Users\\korkm\\Desktop\\yazılım\\görüntü işleme jupyter notları\\.ipynb_checkpoints\\görüntü işleme jupyter\\17-araba algılama\\17.3 videodan araç algılama.ipynb Cell 1\u001b[0m in \u001b[0;36m9\n\u001b[0;32m      <a href='vscode-notebook-cell:/c%3A/Users/korkm/Desktop/yaz%C4%B1l%C4%B1m/g%C3%B6r%C3%BCnt%C3%BC%20i%C5%9Fleme%20jupyter%20notlar%C4%B1/.ipynb_checkpoints/g%C3%B6r%C3%BCnt%C3%BC%20i%C5%9Fleme%20jupyter/17-araba%20alg%C4%B1lama/17.3%20videodan%20ara%C3%A7%20alg%C4%B1lama.ipynb#W1sZmlsZQ%3D%3D?line=6'>7</a>\u001b[0m \u001b[39mwhile\u001b[39;00m \u001b[39m1\u001b[39m :\n\u001b[0;32m      <a href='vscode-notebook-cell:/c%3A/Users/korkm/Desktop/yaz%C4%B1l%C4%B1m/g%C3%B6r%C3%BCnt%C3%BC%20i%C5%9Fleme%20jupyter%20notlar%C4%B1/.ipynb_checkpoints/g%C3%B6r%C3%BCnt%C3%BC%20i%C5%9Fleme%20jupyter/17-araba%20alg%C4%B1lama/17.3%20videodan%20ara%C3%A7%20alg%C4%B1lama.ipynb#W1sZmlsZQ%3D%3D?line=7'>8</a>\u001b[0m     ret,frame\u001b[39m=\u001b[39mvid\u001b[39m.\u001b[39mread()\n\u001b[1;32m----> <a href='vscode-notebook-cell:/c%3A/Users/korkm/Desktop/yaz%C4%B1l%C4%B1m/g%C3%B6r%C3%BCnt%C3%BC%20i%C5%9Fleme%20jupyter%20notlar%C4%B1/.ipynb_checkpoints/g%C3%B6r%C3%BCnt%C3%BC%20i%C5%9Fleme%20jupyter/17-araba%20alg%C4%B1lama/17.3%20videodan%20ara%C3%A7%20alg%C4%B1lama.ipynb#W1sZmlsZQ%3D%3D?line=8'>9</a>\u001b[0m     frame\u001b[39m=\u001b[39mcv2\u001b[39m.\u001b[39;49mresize(frame,(\u001b[39m640\u001b[39;49m,\u001b[39m360\u001b[39;49m))\n\u001b[0;32m     <a href='vscode-notebook-cell:/c%3A/Users/korkm/Desktop/yaz%C4%B1l%C4%B1m/g%C3%B6r%C3%BCnt%C3%BC%20i%C5%9Fleme%20jupyter%20notlar%C4%B1/.ipynb_checkpoints/g%C3%B6r%C3%BCnt%C3%BC%20i%C5%9Fleme%20jupyter/17-araba%20alg%C4%B1lama/17.3%20videodan%20ara%C3%A7%20alg%C4%B1lama.ipynb#W1sZmlsZQ%3D%3D?line=10'>11</a>\u001b[0m     gray\u001b[39m=\u001b[39mcv2\u001b[39m.\u001b[39mcvtColor(frame,cv2\u001b[39m.\u001b[39mCOLOR_BGR2GRAY)\n\u001b[0;32m     <a href='vscode-notebook-cell:/c%3A/Users/korkm/Desktop/yaz%C4%B1l%C4%B1m/g%C3%B6r%C3%BCnt%C3%BC%20i%C5%9Fleme%20jupyter%20notlar%C4%B1/.ipynb_checkpoints/g%C3%B6r%C3%BCnt%C3%BC%20i%C5%9Fleme%20jupyter/17-araba%20alg%C4%B1lama/17.3%20videodan%20ara%C3%A7%20alg%C4%B1lama.ipynb#W1sZmlsZQ%3D%3D?line=11'>12</a>\u001b[0m     cars\u001b[39m=\u001b[39mcar_hascade\u001b[39m.\u001b[39mdetectMultiScale(gray,\u001b[39m1.2\u001b[39m,\u001b[39m4\u001b[39m)\n",
      "\u001b[1;31merror\u001b[0m: OpenCV(4.6.0) D:\\a\\opencv-python\\opencv-python\\opencv\\modules\\imgproc\\src\\resize.cpp:4052: error: (-215:Assertion failed) !ssize.empty() in function 'cv::resize'\n"
     ]
    }
   ],
   "source": [
    "import cv2\n",
    "\n",
    "vid=cv2.VideoCapture(r\"C:\\openCV\\test_videos\\6.2 car.mp4.mp4\")\n",
    "car_hascade=cv2.CascadeClassifier(r\"C:\\openCV\\car_cascade\\car_cascade_emin.xml\")#göz için haarcascade\n",
    "#vid=cv2.VideoCapture(0)\n",
    "\n",
    "while 1 :\n",
    "    ret,frame=vid.read()\n",
    "    frame=cv2.resize(frame,(640,360))\n",
    "\n",
    "    gray=cv2.cvtColor(frame,cv2.COLOR_BGR2GRAY)\n",
    "    cars=car_hascade.detectMultiScale(gray,1.2,4)\n",
    "\n",
    "    for (x,y,w,h)in cars:\n",
    "        cv2.rectangle(frame,(x,y),(x+w,y+h),(200,23,132),3)\n",
    "    \n",
    "    cv2.imshow(\"video_car_detect\",frame)\n",
    "\n",
    "    if cv2.waitKey(5) & 0xFF==ord('q'):\n",
    "        break\n",
    "vid.release()\n",
    "cv2.destroyAllWindows()\n"
   ]
  }
 ],
 "metadata": {
  "kernelspec": {
   "display_name": "Python 3",
   "language": "python",
   "name": "python3"
  },
  "language_info": {
   "codemirror_mode": {
    "name": "ipython",
    "version": 3
   },
   "file_extension": ".py",
   "mimetype": "text/x-python",
   "name": "python",
   "nbconvert_exporter": "python",
   "pygments_lexer": "ipython3",
   "version": "3.10.7"
  }
 },
 "nbformat": 4,
 "nbformat_minor": 5
}
