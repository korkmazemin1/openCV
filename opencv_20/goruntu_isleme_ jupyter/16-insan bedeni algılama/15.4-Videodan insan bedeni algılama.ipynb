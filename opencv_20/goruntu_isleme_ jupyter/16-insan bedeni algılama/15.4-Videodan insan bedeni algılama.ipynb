{
 "cells": [
  {
   "cell_type": "code",
   "execution_count": 1,
   "metadata": {},
   "outputs": [],
   "source": [
    "import cv2\n",
    "face_cascade=cv2.CascadeClassifier(r\"C:\\openCV\\haarCascade\\haarcascade_frontalface_alt.xml\")\n",
    "eye_cascade=cv2.CascadeClassifier(r\"C:\\openCV\\haarCascade\\eye_haarcascade.xml\")\n",
    "\n",
    "\n",
    "#vid=cv2.VideoCapture(r\"C:\\openCV\\test_videos\\10.1 eye.mp4.mp4\")\n",
    "vid=cv2.VideoCapture(0)\n",
    "\n",
    "while 1 :\n",
    "    ret,frame=vid.read()\n",
    "    frame=cv2.resize(frame,(480,360))\n",
    "\n",
    "    gray=cv2.cvtColor(frame,cv2.COLOR_BGR2GRAY)\n",
    "    faces=face_cascade.detectMultiScale(gray,1.3,5)\n",
    "\n",
    "    for (x,y,w,h)in faces:\n",
    "        cv2.rectangle(frame,(x,y),(x+w,y+h),(30,23,132),3)\n",
    "    roi_frame=frame[y:y+h,x:x+w]    #region of interest    \n",
    "    roi_gray=gray[y:y+h,x:x+w] \n",
    "\n",
    "    eyes=eye_cascade.detectMultiScale(roi_gray)\n",
    "\n",
    "    for (ex,ey,ew,eh) in eyes :\n",
    "        cv2.rectangle(roi_frame,(ex,ey),(ex+ew,ey+eh),(128,56,12),2)\n",
    "    cv2.imshow(\"video_detect_eye\",frame)\n",
    "\n",
    "    if cv2.waitKey(5) & 0xFF==ord('q'):\n",
    "        break\n",
    "vid.release()\n",
    "cv2.destroyAllWindows()\n"
   ]
  }
 ],
 "metadata": {
  "kernelspec": {
   "display_name": "Python 3",
   "language": "python",
   "name": "python3"
  },
  "language_info": {
   "codemirror_mode": {
    "name": "ipython",
    "version": 3
   },
   "file_extension": ".py",
   "mimetype": "text/x-python",
   "name": "python",
   "nbconvert_exporter": "python",
   "pygments_lexer": "ipython3",
   "version": "3.10.7"
  }
 },
 "nbformat": 4,
 "nbformat_minor": 5
}
