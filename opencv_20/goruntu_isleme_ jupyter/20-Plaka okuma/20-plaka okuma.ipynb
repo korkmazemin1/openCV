{
 "cells": [
  {
   "cell_type": "code",
   "execution_count": 1,
   "metadata": {},
   "outputs": [
    {
     "name": "stdout",
     "output_type": "stream",
     "text": [
      "detected text: 300 SL 1957.\n",
      "\n"
     ]
    }
   ],
   "source": [
    "import cv2\n",
    "import numpy as np \n",
    "import pytesseract\n",
    "import imutils\n",
    "\n",
    "\n",
    "img=cv2.imread(r\"C:\\Users\\korkm\\Downloads\\9.1 licence_plate.jpg.jpg\")\n",
    "gray=cv2.cvtColor(img,cv2.COLOR_BGR2GRAY)\n",
    "filtered=cv2.bilateralFilter(gray,7,250,250)# köşeleri yumuşatma\n",
    "edged=cv2.Canny(filtered,30,200)\n",
    "edged1=cv2.Canny(gray,30,200)# yumuşatma olmadan köşeleri bulma denendi\n",
    "\n",
    "\n",
    "\n",
    "contours=cv2.findContours(edged,cv2.RETR_TREE,cv2.CHAIN_APPROX_SIMPLE,)\n",
    "cnts=imutils.grab_contours(contours)\n",
    "cnts=sorted(cnts,key=cv2.contourArea,reverse=True)[:10]# köşeleri sıraladık--- alana göre --ters çevirerek\n",
    "screen=None # kapalı şekil bulup bulamadığımızı kontrol etmek adına böyle bir değişken oluştu\n",
    "\n",
    "# köşelerini bulduğumuz şekilden kapalı bir plaka şeklinde geometrik şekil alacağız\n",
    "\n",
    "for c in cnts:\n",
    "    # bozuk şekillerin konturlarını yakalamak adına deneysel bir formül kullanıcaz\n",
    "    epsilon=0.018*cv2.arcLength(c,True)\n",
    "    approx =cv2.approxPolyDP(c,epsilon,True)\n",
    "    if len(approx)==4: # eğer dört köşe var ise yani aprroxda 4 değer saklı ise  muhtemel plaka alanını screen ile aldık\n",
    "        screen=approx\n",
    "        break\n",
    "\n",
    "mask=np.zeros(gray.shape,np.uint8)\n",
    "new_img=cv2.drawContours(mask,[screen],0,(255,255,255),-1)# screen bölgesindeki konturları aldı\n",
    "new_img=cv2.bitwise_and(img,img,mask=mask)#################################\n",
    "###########################################################################\n",
    "\n",
    "\n",
    "(x,y)=np.where(mask==255)# eğer beyaz ise konumları (x,y) ye at dedik \n",
    "(topx,topy)=(np.min(x),np.min(y))# en üst noktları minimum noktaları saptayarak sol üstü saptadık \n",
    "(bottomx,bottomy)=(np.max(x),np.max(y))\n",
    "cropped=gray[topx:bottomx+1,topy:bottomy+1]\n",
    "\n",
    "\n",
    "text=pytesseract.image_to_string(cropped,lang=\"eng\")\n",
    "print(\"detected text:\",text)\n",
    "\n",
    "\n",
    "cv2.imshow(\"cropped\",cropped)\n",
    "cv2.imshow(\"img\",img)\n",
    "cv2.imshow(\"edged\",edged)\n",
    "cv2.imshow(\"mask\",mask)\n",
    "cv2.imshow(\"masknew\",new_img)\n",
    "cv2.waitKey(0)\n",
    "cv2.destroyAllWindows()"
   ]
  },
  {
   "cell_type": "code",
   "execution_count": null,
   "id": "1fe07afc",
   "metadata": {},
   "outputs": [],
   "source": []
  }
 ],
 "metadata": {
  "kernelspec": {
   "display_name": "Python 3",
   "language": "python",
   "name": "python3"
  },
  "language_info": {
   "codemirror_mode": {
    "name": "ipython",
    "version": 3
   },
   "file_extension": ".py",
   "mimetype": "text/x-python",
   "name": "python",
   "nbconvert_exporter": "python",
   "pygments_lexer": "ipython3",
   "version": "3.10.7"
  }
 },
 "nbformat": 4,
 "nbformat_minor": 5
}
