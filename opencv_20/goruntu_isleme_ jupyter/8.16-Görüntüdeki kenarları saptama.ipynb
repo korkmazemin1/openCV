{
 "cells": [
  {
   "cell_type": "code",
   "execution_count": 3,
   "metadata": {},
   "outputs": [],
   "source": [
    "import cv2\n",
    "import numpy as np\n",
    "\n",
    "img=cv2.imread(r\"C:\\Users\\korkm\\Downloads\\15.1 text.png.png\")\n",
    "cap=cv2.VideoCapture(0)\n",
    "\n",
    "while 1:\n",
    "    ret,frame= cap.read()\n",
    "    frame = cv2.flip(frame,1)# bunu çok kullanıcaz görüntüye ayna etkisi veriyor\n",
    "\n",
    "    edges= cv2.Canny(frame,100,200)\n",
    "\n",
    "    cv2.imshow(\"Frame\",frame)\n",
    "    cv2.imshow(\"kösseli\",edges)\n",
    "    if cv2.waitKey(5) & 0xFF == ord(\"q\"):\n",
    "        break\n",
    "cap.release()\n",
    "cv2.destroyAllWindows()\n"
   ]
  }
 ],
 "metadata": {
  "kernelspec": {
   "display_name": "Python 3",
   "language": "python",
   "name": "python3"
  },
  "language_info": {
   "codemirror_mode": {
    "name": "ipython",
    "version": 3
   },
   "file_extension": ".py",
   "mimetype": "text/x-python",
   "name": "python",
   "nbconvert_exporter": "python",
   "pygments_lexer": "ipython3",
   "version": "3.10.7"
  }
 },
 "nbformat": 4,
 "nbformat_minor": 5
}
