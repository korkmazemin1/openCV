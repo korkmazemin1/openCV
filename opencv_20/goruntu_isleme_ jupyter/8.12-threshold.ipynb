{
 "cells": [
  {
   "cell_type": "code",
   "execution_count": 35,
   "id": "734f5e28",
   "metadata": {},
   "outputs": [],
   "source": [
    "# bu yönteme resim öbekleme diyebiliriz-- resim siyah beyaz olmalı\n",
    "# threshold yöntemleri ile beraber resimlerdeki ayrıntı çizgileri siyahb beyaz yoğunlukla farkedebiliriz en çok işe yarayanı gauissian blurdur\n",
    "import cv2\n",
    "import numpy as np\n",
    "\n",
    "img= cv2.imread(r\"C:\\Users\\korkm\\Downloads\\14.1 smile.jpg.jpg\",0)\n",
    "\n",
    "ret,th1=cv2.threshold(img,127,255,cv2.THRESH_BINARY)\n",
    "th2= cv2.adaptiveThreshold(img,255,cv2.ADAPTIVE_THRESH_MEAN_C,cv2.THRESH_BINARY,71,12)# 71 yerine olacak sayıyı tek bir sayıyı yazman gerekir\n",
    "# 12 yerine gelen sayıyı arttırdıkça az yoğun olan noktalar beyaza dönüşüyor\n",
    "th3=cv2.adaptiveThreshold(img,255,cv2.ADAPTIVE_THRESH_GAUSSIAN_C,cv2.THRESH_BINARY,71,12)\n",
    "\n",
    "\n",
    "cv2.imshow(\"rsm\",img)\n",
    "#cv2.imshow(\"th1\",th1)\n",
    "#cv2.imshow(\"th2\",th2)\n",
    "cv2.imshow(\"th3\",th3)\n",
    "\n",
    "cv2.waitKey(0)\n",
    "cv2.destroyAllWindows()\n"
   ]
  },
  {
   "cell_type": "code",
   "execution_count": null,
   "metadata": {},
   "outputs": [],
   "source": []
  },
  {
   "cell_type": "code",
   "execution_count": null,
   "metadata": {},
   "outputs": [],
   "source": []
  }
 ],
 "metadata": {
  "kernelspec": {
   "display_name": "Python 3 (ipykernel)",
   "language": "python",
   "name": "python3"
  },
  "language_info": {
   "codemirror_mode": {
    "name": "ipython",
    "version": 3
   },
   "file_extension": ".py",
   "mimetype": "text/x-python",
   "name": "python",
   "nbconvert_exporter": "python",
   "pygments_lexer": "ipython3",
   "version": "3.10.7"
  }
 },
 "nbformat": 4,
 "nbformat_minor": 5
}
