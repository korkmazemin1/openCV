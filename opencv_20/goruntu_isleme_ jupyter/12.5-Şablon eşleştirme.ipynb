{
 "cells": [
  {
   "cell_type": "code",
   "execution_count": 4,
   "metadata": {},
   "outputs": [
    {
     "name": "stdout",
     "output_type": "stream",
     "text": [
      "(117, 121)\n",
      "[[-0.09242281 -0.09286071 -0.09425785 ... -0.28768453 -0.3098953\n",
      "  -0.32646155]\n",
      " [-0.09274451 -0.09262811 -0.0936697  ... -0.28652614 -0.308628\n",
      "  -0.32482296]\n",
      " [-0.09392464 -0.09375468 -0.09476911 ... -0.2848267  -0.30653262\n",
      "  -0.32219538]\n",
      " ...\n",
      " [-0.13645248 -0.13351221 -0.13321751 ... -0.00859596  0.0240344\n",
      "   0.04864158]\n",
      " [-0.13443932 -0.13357447 -0.13185789 ... -0.00562109  0.02628269\n",
      "   0.05009644]\n",
      " [-0.12913586 -0.12763505 -0.12449402 ... -0.00258409  0.02861846\n",
      "   0.05123131]]\n",
      "(array([52, 53, 53, 53, 54], dtype=int64), array([282, 281, 282, 283, 282], dtype=int64))\n"
     ]
    }
   ],
   "source": [
    "import cv2\n",
    "import numpy as np \n",
    "\n",
    "img0=cv2.imread(r\"C:\\Users\\korkm\\Downloads\\4.2 starwars.jpg.jpg\")\n",
    "imgt=cv2.imread(r\"C:\\Users\\korkm\\Downloads\\5.2 starwars2.jpg.jpg\",0)# template -- virgül yaptıktan sonra 1 yazılırsa normal halinde ,eğer yazılırsa  resmi gray formatında okuyacaktır \n",
    "img0_gray=cv2.cvtColor(img0,cv2.COLOR_BGR2GRAY)# burada ayrıca fonksiyon ile gray haline çevirdik üstteki yol daha ergonomik\n",
    "print(imgt.shape)# eğer rgb ye sahipse print kısmındaki 3. parametrede 3 yazar burada biz gray tonuna çevirdiğimiz için 3. parametre olmayacaktır\n",
    "\n",
    "\n",
    "w,h=imgt.shape[::-1]# eksi 1 w ve h nin yerlerini etkiliyor\n",
    "result=cv2.matchTemplate(img0_gray,imgt,cv2.TM_CCOEFF_NORMED)# önce resim sonra şablon(template)\n",
    "print(result)\n",
    "cv2.imshow(\"result\",result)# gösterilen penceredeki beyaz nokta eşleştiğini ve sol üst noktasını gösterir yani beyaza en yakın olan sonuca en yakın olan bölgelerdir\n",
    "# beyaz=şablonun eşleşmesi bunu aşağıda matematiğe dökelim\n",
    "\n",
    "location=np.where(result >= 0.9)\n",
    "print(location)\n",
    "\n",
    "for point in zip(*location [::-1]):#yükseklik ve genişliği tersten alıyor# zip fonksiyonu elde edilen karışık matrisleri tek tek kordinat haline getirdi ve o kordinatları for döngüsü içerisinde döndürüyoruz\n",
    "    cv2.rectangle(img0,point,(point[0]+w,point[1]+h),(0,0,255),3)\n",
    "\n",
    "cv2.imshow(\"img\",img0)\n",
    "cv2.imshow(\"template\",imgt)\n",
    "\n",
    "cv2.waitKey(0)\n",
    "cv2.destroyAllWindows()"
   ]
  }
 ],
 "metadata": {
  "kernelspec": {
   "display_name": "Python 3",
   "language": "python",
   "name": "python3"
  },
  "language_info": {
   "codemirror_mode": {
    "name": "ipython",
    "version": 3
   },
   "file_extension": ".py",
   "mimetype": "text/x-python",
   "name": "python",
   "nbconvert_exporter": "python",
   "pygments_lexer": "ipython3",
   "version": "3.10.7"
  }
 },
 "nbformat": 4,
 "nbformat_minor": 5
}
