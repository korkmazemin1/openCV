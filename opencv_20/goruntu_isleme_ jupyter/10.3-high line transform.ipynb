{
 "cells": [
  {
   "cell_type": "code",
   "execution_count": 14,
   "id": "73bd0e78",
   "metadata": {},
   "outputs": [],
   "source": [
    "# amacımız çizgileri tespit etmek#\n",
    "#  örnek olarak şerit takip sistemlerinde kullanılabilir\n",
    "\n",
    "import cv2\n",
    "import numpy as np\n",
    "\n",
    "\n",
    "img= cv2.imread(r\"C:\\Users\\korkm\\Downloads\\3.1 h_line.png.png\")\n",
    "\n",
    "gray=cv2.cvtColor(img,cv2.COLOR_BGR2GRAY)\n",
    "\n",
    "edges= cv2.Canny(gray,75,150,)# 2 ve 3. parametreler minimum ve maksimum değerlerdir gidişata göre değiştirilebilir\n",
    "# canny fonksiyonu ile köşeleri bulduk\n",
    "#cv2.HoughLines()# bu fonksiyon işlemciyi yorduğu için tercih etmiyoruz\n",
    "lines=cv2.HoughLinesP(edges,1,np.pi/180,50,maxLineGap=120)#gap= boşluk\n",
    "\n",
    "for line in lines:\n",
    "    x1,y1,x2,y2 = line[0]# line ların başlangıç ve bitiş noktaları\n",
    "    cv2.line(img,(x1,y1),(x2,y2),(0,0,230),2)\n",
    "\n",
    "\n",
    "cv2.imshow(\"asil\",gray)\n",
    "cv2.imshow(\"edges\",edges)\n",
    "cv2.imshow(\"sonuc\",img)\n",
    "cv2.waitKey(0)\n",
    "cv2.destroyAllWindows()\n",
    "\n",
    "\n"
   ]
  }
 ],
 "metadata": {
  "kernelspec": {
   "display_name": "Python 3 (ipykernel)",
   "language": "python",
   "name": "python3"
  },
  "language_info": {
   "codemirror_mode": {
    "name": "ipython",
    "version": 3
   },
   "file_extension": ".py",
   "mimetype": "text/x-python",
   "name": "python",
   "nbconvert_exporter": "python",
   "pygments_lexer": "ipython3",
   "version": "3.10.7"
  }
 },
 "nbformat": 4,
 "nbformat_minor": 5
}
