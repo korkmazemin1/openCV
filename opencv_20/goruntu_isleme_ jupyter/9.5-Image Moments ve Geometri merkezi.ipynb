{
 "cells": [
  {
   "cell_type": "code",
   "execution_count": 10,
   "id": "18ea626d",
   "metadata": {},
   "outputs": [],
   "source": [
    "\n",
    "import cv2\n",
    "import numpy as np\n",
    "\n",
    "img=cv2.imread(r\"C:\\Users\\korkm\\Downloads\\5.1 contour.png.png\")\n",
    "\n",
    "gray=cv2.cvtColor(img,cv2.COLOR_BGR2GRAY)\n",
    "_,thresh=cv2.threshold(gray,127,255,cv2.THRESH_BINARY)\n",
    "\n",
    "M=cv2.moments(thresh)\n",
    "\n",
    "X= int(M[\"m10\"]/M[\"m00\"])# geometrinin x kordinatları\n",
    "Y=int(M[\"m01\"]/M[\"m00\"])\n",
    "\n",
    "cv2.circle(img,(X,Y),10,(255,0,255),-1)\n",
    "\n",
    "\n",
    "cv2.imshow(\"img\",img)\n",
    "cv2.waitKey(0)\n",
    "cv2.destroyAllWindows()"
   ]
  }
 ],
 "metadata": {
  "kernelspec": {
   "display_name": "Python 3 (ipykernel)",
   "language": "python",
   "name": "python3"
  },
  "language_info": {
   "codemirror_mode": {
    "name": "ipython",
    "version": 3
   },
   "file_extension": ".py",
   "mimetype": "text/x-python",
   "name": "python",
   "nbconvert_exporter": "python",
   "pygments_lexer": "ipython3",
   "version": "3.10.7"
  }
 },
 "nbformat": 4,
 "nbformat_minor": 5
}
