{
 "cells": [
  {
   "cell_type": "code",
   "execution_count": 1,
   "metadata": {},
   "outputs": [],
   "source": [
    "import cv2\n",
    "import numpy as np\n",
    "\n",
    "\n",
    "font = cv2.FONT_HERSHEY_SIMPLEX\n",
    "font2= cv2.FONT_HERSHEY_COMPLEX\n",
    "\n",
    "cokgen= cv2.imread(r\"C:\\Users\\korkm\\Downloads\\1.1 polygons.png.png\")\n",
    "gri= cv2.cvtColor(cokgen,cv2.COLOR_BGR2GRAY)\n",
    "_,threshhold=cv2.threshold(gri,240,255,cv2.THRESH_BINARY)\n",
    "# gray fromata çevirip threshold uygulayarak binaryize ettik\n",
    "\n",
    "contours,_=cv2.findContours(threshhold,cv2.RETR_TREE,cv2.CHAIN_APPROX_SIMPLE)# köşeleri bulan fonksiyon\n",
    "\n",
    "for cnt in contours:\n",
    "    epsilon=0.01*cv2.arcLength(cnt,True)# 2. parametre kapalı olup olmadığına bakıyor  \n",
    "    approx = cv2.approxPolyDP(cnt,epsilon,True)\n",
    "\n",
    "    cv2.drawContours(cokgen,[approx],0,(0),5)\n",
    "\n",
    "    x=approx.ravel()[0]\n",
    "    y=approx.ravel()[1]\n",
    "\n",
    "    if len(approx)==3:\n",
    "        cv2.putText(cokgen,\"ucgen\",(x,y),font2,1,(0))\n",
    "    elif len(approx)==4:\n",
    "        cv2.putText(cokgen,\"dortgen\",(x,y),font2,1,(0))\n",
    "    elif len(approx)==5:\n",
    "        cv2.putText(cokgen,\"besgen\",(x,y),font2,1,(0))\n",
    "    elif len(approx)==6:\n",
    "        cv2.putText(cokgen,\"altigen\",(x,y),font2,1,(0))\n",
    "    else :\n",
    "        cv2.putText(cokgen,\"elips\",(x,y),font2,1,(0))\n",
    "cv2.imshow(\"cokgen\",cokgen)\n",
    "\n",
    "cv2.waitKey(0)\n",
    "cv2.destroyAllWindows()\n"
   ]
  }
 ],
 "metadata": {
  "kernelspec": {
   "display_name": "Python 3",
   "language": "python",
   "name": "python3"
  },
  "language_info": {
   "codemirror_mode": {
    "name": "ipython",
    "version": 3
   },
   "file_extension": ".py",
   "mimetype": "text/x-python",
   "name": "python",
   "nbconvert_exporter": "python",
   "pygments_lexer": "ipython3",
   "version": "3.10.7"
  }
 },
 "nbformat": 4,
 "nbformat_minor": 5
}
