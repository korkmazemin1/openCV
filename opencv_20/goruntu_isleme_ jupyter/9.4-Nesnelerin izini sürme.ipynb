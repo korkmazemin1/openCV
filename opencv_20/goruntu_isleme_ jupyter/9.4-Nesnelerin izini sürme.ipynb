{
 "cells": [
  {
   "cell_type": "code",
   "execution_count": 1,
   "id": "a86a6247",
   "metadata": {},
   "outputs": [],
   "source": [
    "import cv2\n",
    "import numpy as np\n",
    "\n",
    "cap =cv2.VideoCapture(r\"C:\\Users\\korkm\\Downloads\\4.2 dog.mp4.mp4\")\n",
    "\n",
    "while True:     # sonsuz döngü haline getirdik sebebi ise cv2 nun videodaki kareleri(frame) tek tek okumasıdır- olan video içinse adresi yazılmalı\n",
    "    ret,kare=cap.read()# kareleri tek tek okumak için girdik burada girdiğimiz ret fonksiyondan çıkan true false değerini kare ise çıkan kare değerini karşılaması için yazıldı\n",
    "    \n",
    "    \n",
    "    hsv= cv2.cvtColor(kare,cv2.COLOR_BGR2HSV)\n",
    "    hassaslik=15\n",
    "    lower_white=np.array([0,0,255-hassaslik]) # hsv aralığının kodu diğer renkler için stackowerdan araştır\n",
    "    upper_white=np.array([255,hassaslik,255])\n",
    "    mask=cv2.inRange(hsv,lower_white,upper_white)# tespit edilen beyaz kısım dışındaki bütün alanı maskeledik\n",
    "    res=cv2.bitwise_and(kare,kare,mask=mask)# fonksiyonun kendisini araştır--bitwise--\n",
    "\n",
    "    if ret == 0:\n",
    "        break# ret 0 olduğunda video biter ve pencere kapanır\n",
    "    #kare=cv2.flip(kare,1)# 1 yazarsak her bir kare y eksenine göre tersini alırız ayna etkisi yaratır \n",
    "    \n",
    "    \n",
    "    cv2.namedWindow(\"tespit\",cv2.WINDOW_NORMAL)#bu kodu imshowdan önce yazmaya dikkat et__ pencerenin boyutu ile oynamamızı sağlar\n",
    "    cv2.namedWindow(\"mask0\",cv2.WINDOW_NORMAL)\n",
    "    cv2.namedWindow(\"result\",cv2.WINDOW_NORMAL)\n",
    "    \n",
    "    \n",
    "    cv2.imshow(\"tespit\",kare)# anlık videoların karelerini(framlerini)alıcaz\n",
    "    cv2.imshow(\"mask0\",mask)\n",
    "    cv2.imshow(\"result\",res)  \n",
    "    if cv2.waitKey(30)& 0xFF==ord(\"q\"):# her kareyi 30 m/s göreceğiz -q ya basana kadar devam eder\n",
    "        break\n",
    "cap.release()  \n",
    "cv2.destroyAllWindows() \n"
   ]
  }
 ],
 "metadata": {
  "kernelspec": {
   "display_name": "Python 3 (ipykernel)",
   "language": "python",
   "name": "python3"
  },
  "language_info": {
   "codemirror_mode": {
    "name": "ipython",
    "version": 3
   },
   "file_extension": ".py",
   "mimetype": "text/x-python",
   "name": "python",
   "nbconvert_exporter": "python",
   "pygments_lexer": "ipython3",
   "version": "3.10.7"
  }
 },
 "nbformat": 4,
 "nbformat_minor": 5
}
