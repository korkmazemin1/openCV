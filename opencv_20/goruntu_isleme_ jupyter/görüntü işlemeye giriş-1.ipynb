{
 "cells": [
  {
   "cell_type": "code",
   "execution_count": 1,
   "id": "011596fa",
   "metadata": {},
   "outputs": [],
   "source": [
    "\n",
    "import cv2   \n",
    "img = cv2.imread(r'C:\\Users\\korkm\\Downloads\\visdrone22.2.jpg')\n",
    "\n",
    "cv2.namedWindow(\"foto\",cv2.WINDOW_NORMAL)#bu kodu imshowdan önce yazmaya dikkat et__ pencerenin boyutu ile oynamamızı sağlar\n",
    "cv2.imshow('foto', img)\n",
    "cv2.imwrite(\"test1.jpg\",img)# img nerden aldığımızı belirtiyor ayrıca resmimizi kaydeder\n",
    "cv2.waitKey(0) # waitKey içine ms değeri girilir ancak 0 girilirse biz bir tuşa basana kadar açık kalır\n",
    "\n",
    "\n",
    "\n",
    "cv2.destroyAllWindows()# bunu syntax olarak düşün karmaşık kodlarda sorun yaşamamak adına\n"
   ]
  },
  {
   "cell_type": "code",
   "execution_count": 3,
   "id": "4ba5fd41",
   "metadata": {},
   "outputs": [
    {
     "ename": "KeyboardInterrupt",
     "evalue": "",
     "output_type": "error",
     "traceback": [
      "\u001b[1;31m---------------------------------------------------------------------------\u001b[0m",
      "\u001b[1;31mKeyboardInterrupt\u001b[0m                         Traceback (most recent call last)",
      "Cell \u001b[1;32mIn [3], line 6\u001b[0m\n\u001b[0;32m      4\u001b[0m cv2\u001b[39m.\u001b[39mimshow(\u001b[39m\"\u001b[39m\u001b[39mfoto\u001b[39m\u001b[39m\"\u001b[39m,img1)\n\u001b[0;32m      5\u001b[0m cv2\u001b[39m.\u001b[39mimwrite(\u001b[39mr\u001b[39m\u001b[39m\"\u001b[39m\u001b[39mC:\u001b[39m\u001b[39m\\\u001b[39m\u001b[39mUsers\u001b[39m\u001b[39m\\\u001b[39m\u001b[39mkorkm\u001b[39m\u001b[39m\\\u001b[39m\u001b[39mDesktop\u001b[39m\u001b[39m\\\u001b[39m\u001b[39mtest2.jpg\u001b[39m\u001b[39m\"\u001b[39m,img1)\u001b[39m# kayıt yaparken yine aynı şekilde r yazarsan türkçe karakter sorunu yaşamazsın\u001b[39;00m\n\u001b[1;32m----> 6\u001b[0m cv2\u001b[39m.\u001b[39;49mwaitKey(\u001b[39m0\u001b[39;49m)\n\u001b[0;32m      7\u001b[0m cv2\u001b[39m.\u001b[39mdestroyAllWindows()\n",
      "\u001b[1;31mKeyboardInterrupt\u001b[0m: "
     ]
    },
    {
     "ename": "",
     "evalue": "",
     "output_type": "error",
     "traceback": [
      "\u001b[1;31mThe Kernel crashed while executing code in the the current cell or a previous cell. Please review the code in the cell(s) to identify a possible cause of the failure. Click <a href='https://aka.ms/vscodeJupyterKernelCrash'>here</a> for more info. View Jupyter <a href='command:jupyter.viewOutput'>log</a> for further details."
     ]
    }
   ],
   "source": [
    "import cv2 \n",
    "img1=cv2.imread(r\"C:\\Users\\korkm\\Downloads\\visdrone22.2.jpg\")# eğer r yazmazsak türkçe karakter hatası veriyor ancak r yazınca bu problem ortadan kalkıyor-0 yazdığımız için gri tonda okur\n",
    "cv2.namedWindow(\"foto\",cv2.WINDOW_NORMAL)\n",
    "cv2.imshow(\"foto\",img1)\n",
    "cv2.imwrite(r\"C:\\Users\\korkm\\Desktop\\test2.jpg\",img1)# kayıt yaparken yine aynı şekilde r yazarsan türkçe karakter sorunu yaşamazsın\n",
    "cv2.waitKey(0)\n",
    "cv2.destroyAllWindows()\n"
   ]
  },
  {
   "cell_type": "code",
   "execution_count": null,
   "id": "c9b67ee2",
   "metadata": {},
   "outputs": [],
   "source": [
    "# pencereleri yeniden boyutlandırma\n",
    "import cv2\n",
    "cv2.namedWindow(\"foto\",cv2.WINDOW_NORMAL)\n",
    "img1=cv2.imread(r\"C:\\Users\\korkm\\Downloads\\visdrone22.2.jpg\")\n",
    "\n",
    "img1=cv2.resize(img1,(1080,1080))# burada fotoğrafın piksel değerleri biçimlendirilir bir nevi resmin kalitesi olarak düşün\n",
    "\n",
    "\n",
    "cv2.imshow(\"foto\",img1)# burada önemli bir mantık var resmi göstermeden önce yapman gereken işlemleri önce yap sırasını karıştırma\n",
    "cv2.waitKey(0)\n",
    "cv2.destroyAllWindows()\n",
    "\n"
   ]
  },
  {
   "cell_type": "code",
   "execution_count": 6,
   "id": "56a0d057",
   "metadata": {},
   "outputs": [],
   "source": [
    "import cv2\n",
    "# en boy oranı dikkate alınarak resmin boyutu belirlenir\n",
    "def aspectratio(img,width=None,height=None,inter=cv2.INTER_AREA):# burada inter area olası  interpolasyonlardan(eksik veya bozuk piksellerin komşuluklar kullanılarak tamamlanması) sonra yapılan boyut değişikliklerinden zarar görmemek için konulur\n",
    "        dimension=None\n",
    "        (h,w)=img.shape[:2]#img.shape(burada resimin boyutunu aldık)den yalnızca 0 dan 2 ye kadar olanları istiyoruz_bunlarıda 0-1 h-w olarak atadık\n",
    "\n",
    "        if width is None and height is None:# en boy girmezse aynı resmi döndürür\n",
    "\n",
    "            return img\n",
    "        if width is None:\n",
    "            r=height/float(h)# kullanıcının verdiği boy değeri ile resmin orijinalindeki değerleri birbirine böldüm--kullanıcı olması gereken boyut değerlerini girer\n",
    "            dimension=(int(w*r),height)#  kullanıcının verdiği  yeni yükseklik değerini olan yükseklik değeri ile oranlayarak verilmeyen boyu  oranlayıp yeniden boyutlandırdık\n",
    "        else:\n",
    "                r=width/float(w)\n",
    "                dimension=(width,int(r*w))\n",
    "        return   cv2.resize(img,dimension,interpolation=inter)# resize parametreleri\n",
    "\n",
    "img=cv2.imread(r\"C:\\Users\\korkm\\Downloads\\visdrone22.2.jpg\")\n",
    "img1=aspectratio(img,width=300,height=None,inter=cv2.INTER_AREA)\n",
    "cv2.imshow(\"eski\",img)\n",
    "cv2.imshow(\"yeni\",img1)\n",
    "cv2.waitKey(0)\n",
    "cv2.destroyAllWindows()\n",
    "\n",
    "\n"
   ]
  },
  {
   "cell_type": "code",
   "execution_count": 2,
   "id": "906eb403",
   "metadata": {},
   "outputs": [],
   "source": [
    "# video okuma \n",
    "import cv2\n",
    "cap=cv2.VideoCapture(0)    # video okuma kodu eğer webcamden okuyacaksak sıfır değerini yazarız\n",
    "while True:     # sonsuz döngü haline getirdik sebebi ise cv2 nun videodaki kareleri(frame) tek tek okumasıdır- olan video içinse adresi yazılmalı\n",
    "    ret,kare=cap.read()# kareleri tak tak okumak için girdik burada girdiğimiz ret fonksiyondan çıkan true false değerini kare ise çıkan kare değerini karşılaması için yazıldı\n",
    "    if ret == 0:\n",
    "        break# ret 0 olduğunda video biter ve pencere kapanır\n",
    "    #kare=cv2.flip(kare,1)# 1 yazarsak her bir kare y eksenine göre tersini alırız ayna etkisi yaratır \n",
    "    cv2.imshow(\"webcam\",kare)# anlık videoların karelerini(framlerini)alıcaz  \n",
    "    if cv2.waitKey(30)& 0xFF==ord(\"q\"):# her kareyi 30 m/s göreceğiz -q ya basana kadar devam eder\n",
    "        break\n",
    "cap.release()  \n",
    "cv2.destroyAllWindows() \n",
    "\n"
   ]
  },
  {
   "cell_type": "code",
   "execution_count": 2,
   "id": "1bc93ac8",
   "metadata": {},
   "outputs": [
    {
     "name": "stdout",
     "output_type": "stream",
     "text": [
      "Monday_16-23-53\n"
     ]
    }
   ],
   "source": [
    "#video kaydetme\n",
    "import cv2\n",
    "from datetime import datetime\n",
    "yakala=cv2.VideoCapture(0)\n",
    "\n",
    "an=datetime.now()\n",
    "zaman = an.strftime(\"%A_%H-%M-%S\")# burada adrese isim belirtirken boşluk bırakma ve özel karakter kullanma yoksa kabul etmiyor\n",
    "print(zaman)\n",
    "cv2\n",
    "dosya_adi='C:\\\\Users\\\\korkm\\\\Desktop\\\\yazilim\\\\goruntu_isleme_python\\\\.ipynb_checkpoints\\\\goruntu_isleme_kayit\\ilk_videoheeeeeeee{}.mp4'.format(zaman)\n",
    "codec=fourcc = cv2.VideoWriter_fourcc(*'mp4v')# fourcc dosya uzantısına göre değişmektedir internetten kontrol et\n",
    "frame_rate=30\n",
    "resolution=(640,480)\n",
    "videoyu_kaydet=cv2.VideoWriter(dosya_adi,codec,frame_rate,resolution)\n",
    "while True:\n",
    "    ret,kare=yakala.read()\n",
    "    kare=cv2.flip(kare,1)# ayna gibi görüntü almak için\n",
    "    videoyu_kaydet.write(kare)\n",
    "    cv2.imshow(\" canlı kamera\",kare)\n",
    "    if cv2.waitKey(10)& 0xFF== ord(\"q\"):\n",
    "        break\n",
    "videoyu_kaydet.release()\n",
    "yakala.release()\n",
    "cv2.destroyAllWindows()    "
   ]
  },
  {
   "cell_type": "code",
   "execution_count": 2,
   "id": "6b359736",
   "metadata": {},
   "outputs": [],
   "source": [
    "\n",
    "import cv2 \n",
    "import numpy as np \n",
    "from datetime import datetime\n",
    "\n",
    "lower_blue=np.array([100, 70,70])# hsv için mavi renginin sınırları belirlendi\n",
    "upper_blue=np.array([130, 255, 255])\n",
    "\n",
    "\n",
    "import cv2\n",
    "cap=cv2.VideoCapture(0)\n",
    "codec=fourcc = cv2.VideoWriter_fourcc(*'mp4v')# videyu kaydetmek için codec\n",
    "frame_rate=30\n",
    "resolution=(640,480)\n",
    "now=datetime.now()# dosya katıt için datetime eklendi\n",
    "namme=now.strftime(\"%A_%H-%M-%S\")\n",
    "record_name=\"C:\\\\openCV\\\\nesne_saptama_proje\\\\data\\\\output\\\\object_detection.mp4\"\n",
    "record=cv2.VideoWriter(record_name,codec,frame_rate,resolution)\n",
    "while True:    \n",
    "    ret,frame=cap.read()# kareleri tak tak okumak için girdik burada girdiğimiz ret fonksiyondan çıkan true false değerini kare ise çıkan kare değerini karşılaması için yazıldı\n",
    "    frame=cv2.flip(frame,1)# görüntü y ekseninde çevrildi \n",
    "    record.write(frame)\n",
    "    hsv=cv2.cvtColor(frame,cv2.COLOR_BGR2HSV)\n",
    "    mask=cv2.inRange(hsv,lower_blue,upper_blue)# 4 adımlı bir mask işlemi uygulandı\n",
    "    mask=cv2.erode(mask,(5,5),iterations=3)\n",
    "    mask=cv2.morphologyEx(mask,cv2.MORPH_OPEN,(5,5))\n",
    "    mask=cv2.dilate(mask,(5,5),iterations=3)\n",
    "\n",
    "    contours,_=cv2.findContours(mask,cv2.RETR_TREE,cv2.CHAIN_APPROX_SIMPLE) # mavi rengindeki cisimler ayırt edildikten sonra konturları bulundu\n",
    "    center=None\n",
    "    fw,fh=frame.shape[:2]\n",
    "    for cnt in contours:\n",
    "         x,y,w,h=cv2.boundingRect(cnt)# burada bulduğumuz konturların sol üst konumunun kordinatları x,y ve width height ile genişlik ve yükseklik ölçülerini aldık\n",
    "         if h>=20:   \n",
    "            cv2.rectangle(frame,(x,y),(x+w,y+h),(0,0,255),3)# rectangle fonksiyonu ile öncesinde bulmuş olduğumuz kordinatlar ile bir kare çizdik\n",
    "         \n",
    "         if h>=20:\n",
    "            cv2.line(frame,(0,int(y+h/2)),(fh,int(y+h/2)),(0,0,0),2)# tespit edilen nesnenin merkezinden x ve y kordinatlarını belirten çizgiler eklendi\n",
    "            cv2.line(frame,(int(x+w/2),0),(int(x+w/2),fw),(0,0,0),2)\n",
    "         \n",
    "               \n",
    "            \n",
    "\n",
    "      \n",
    "    \n",
    "    \n",
    "    cv2.imshow(\"webcam\",frame)\n",
    "    cv2.imshow(\"webcam2\",mask)\n",
    "    \n",
    "    if cv2.waitKey(30)& 0xFF==ord(\"q\"):\n",
    "        break\n",
    "record.release()    \n",
    "cap.release()  \n",
    "cv2.destroyAllWindows() \n",
    "\n",
    "\n"
   ]
  },
  {
   "cell_type": "code",
   "execution_count": 20,
   "id": "2c29b94c",
   "metadata": {},
   "outputs": [
    {
     "name": "stdout",
     "output_type": "stream",
     "text": [
      "Tuesday/, 19:16:16\n"
     ]
    }
   ],
   "source": [
    "\n",
    "now=datetime.now()\n",
    "date_time = now.strftime(\"%A, %H:%M:%S\")\n",
    "print (date_time)"
   ]
  },
  {
   "cell_type": "code",
   "execution_count": 12,
   "id": "39333c2a",
   "metadata": {},
   "outputs": [],
   "source": [
    "import cv2\n",
    "import numpy as np\n",
    "\n",
    "img = cv2.imread(r\"C:\\Users\\korkm\\Desktop\\clean.jpg\")\n",
    "blur_b = cv2.bilateralFilter(img,-10,95,95)\n",
    "blur_g = cv2.GaussianBlur(img,(5,5),cv2.BORDER_DEFAULT) #varılsayan değer\n",
    "blur_m = cv2.medianBlur(img,5)\n",
    "\n",
    "\n",
    "cv2.imshow(\"Original\",img)\n",
    "cv2.imshow(\"blur_b\",blur_b)\n",
    "cv2.imshow(\"blur_g\",blur_g)\n",
    "cv2.imshow(\"blur_m\",blur_m)\n",
    "\n",
    "cv2.waitKey(0)\n",
    "cv2.destroyAllWindows()"
   ]
  },
  {
   "cell_type": "code",
   "execution_count": 5,
   "id": "7c9a9363",
   "metadata": {},
   "outputs": [],
   "source": [
    "import cv2\n",
    "import numpy as np\n",
    "\n",
    "img = cv2.imread(r'C:\\Users\\korkm\\Desktop\\histogram rapor.png')\n",
    "hsv_img = cv2.cvtColor(img, cv2.COLOR_BGR2HSV)\n",
    "bound_lower = np.array([36, 25, 25])\n",
    "bound_upper = np.array([70, 255,255 ])\n",
    "\n",
    "mask_green = cv2.inRange(hsv_img, bound_lower, bound_upper)\n",
    "kernel = np.ones((7,7),np.uint8)\n",
    "\n",
    "mask_green = cv2.morphologyEx(mask_green, cv2.MORPH_CLOSE, kernel)\n",
    "mask_green = cv2.morphologyEx(mask_green, cv2.MORPH_OPEN, kernel)\n",
    "\n",
    "seg_img = cv2.bitwise_and(img, img, mask=mask_green)\n",
    "contours, hier = cv2.findContours(mask_green.copy(), cv2.RETR_EXTERNAL, cv2.CHAIN_APPROX_SIMPLE)\n",
    "output = cv2.drawContours(seg_img, contours, -1, (0, 0, 255), 3)\n",
    "\n",
    "cv2.imshow(\"Result\", seg_img)\n",
    "cv2.waitKey(0)\n",
    "cv2.destroyAllWindows()"
   ]
  },
  {
   "cell_type": "code",
   "execution_count": null,
   "id": "6a17b8be",
   "metadata": {},
   "outputs": [],
   "source": []
  }
 ],
 "metadata": {
  "kernelspec": {
   "display_name": "Python 3.10.7 64-bit",
   "language": "python",
   "name": "python3"
  },
  "language_info": {
   "codemirror_mode": {
    "name": "ipython",
    "version": 3
   },
   "file_extension": ".py",
   "mimetype": "text/x-python",
   "name": "python",
   "nbconvert_exporter": "python",
   "pygments_lexer": "ipython3",
   "version": "3.8.0"
  },
  "vscode": {
   "interpreter": {
    "hash": "fbc70147c0b17e1466092411e4aa22fe65bb9bc84e33454ec8a52da77b41d98a"
   }
  }
 },
 "nbformat": 4,
 "nbformat_minor": 5
}
