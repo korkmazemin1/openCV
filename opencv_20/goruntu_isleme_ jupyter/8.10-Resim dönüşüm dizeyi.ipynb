{
 "cells": [
  {
   "cell_type": "code",
   "execution_count": 16,
   "id": "262587ee",
   "metadata": {},
   "outputs": [],
   "source": [
    "import cv2\n",
    "import numpy as np\n",
    "\n",
    "img = cv2.imread(r\"C:\\Users\\korkm\\Downloads\\14.1 smile.jpg.jpg\",0) #0 ne işe yarıyordu\n",
    "row,col=img.shape    #row-satır  column-sütun\n",
    "\n",
    "M=np.float32([[1,0,50],[0,1,50]])\n",
    "dst =cv2.warpAffine(img,M,(row,col)) #warp sayesinde resmi istediğin kadar döndürebilirsin\n",
    "cv2.imshow(\"dst\",dst)\n",
    "\n",
    "cv2.waitKey(0)\n",
    "cv2.destroyAllWindows()\n",
    "\n"
   ]
  }
 ],
 "metadata": {
  "kernelspec": {
   "display_name": "Python 3 (ipykernel)",
   "language": "python",
   "name": "python3"
  },
  "language_info": {
   "codemirror_mode": {
    "name": "ipython",
    "version": 3
   },
   "file_extension": ".py",
   "mimetype": "text/x-python",
   "name": "python",
   "nbconvert_exporter": "python",
   "pygments_lexer": "ipython3",
   "version": "3.10.7"
  }
 },
 "nbformat": 4,
 "nbformat_minor": 5
}
