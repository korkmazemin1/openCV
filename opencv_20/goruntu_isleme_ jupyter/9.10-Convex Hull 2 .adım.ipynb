{
 "cells": [
  {
   "cell_type": "code",
   "execution_count": 3,
   "id": "e68ac7d7",
   "metadata": {},
   "outputs": [],
   "source": [
    "import cv2\n",
    "import numpy as np\n",
    "\n",
    "img=cv2.imread(r\"C:\\Users\\korkm\\Downloads\\8.1 map.jpg.jpg\")\n",
    "\n",
    "gray=cv2.cvtColor(img,cv2.COLOR_BGR2GRAY)\n",
    "blur = cv2.blur(gray,(3,3))# bu parametrelerin anlamına bak\n",
    "ret,thresh=cv2.threshold(blur,40,255,cv2.THRESH_BINARY)\n",
    "\n",
    "contours,hierarchy=cv2.findContours(thresh,cv2.RETR_TREE,cv2.CHAIN_APPROX_SIMPLE)\n",
    "\n",
    "hull=[]\n",
    "\n",
    "for i in range(len(contours)):\n",
    "    hull.append(cv2.convexHull(contours[i],False)) # false dediğimiz için konturların indislerini hull un içine ne kadar kontur varsa sırası ile atacağız\n",
    "\n",
    "bg= np.zeros((thresh.shape[0],thresh.shape[1],3),np.uint8)\n",
    "\n",
    "for i in range(len(contours)):\n",
    "    cv2.drawContours(bg,contours,i,(255,0,0),3,8,hierarchy)# 8 kesintisiz çizgi tipidir -- hierarchy bazı konturlar için girildi \n",
    "    cv2.drawContours(bg,hull,i,(0,255,0),1,8)\n",
    "###### unutma kontur kenar hull ise dış bükey örtüsü\n",
    "\n",
    "cv2.imshow(\"resim\",bg)\n",
    "\n",
    "cv2.waitKey(0)\n",
    "cv2.destroyAllWindows()   "
   ]
  }
 ],
 "metadata": {
  "kernelspec": {
   "display_name": "Python 3 (ipykernel)",
   "language": "python",
   "name": "python3"
  },
  "language_info": {
   "codemirror_mode": {
    "name": "ipython",
    "version": 3
   },
   "file_extension": ".py",
   "mimetype": "text/x-python",
   "name": "python",
   "nbconvert_exporter": "python",
   "pygments_lexer": "ipython3",
   "version": "3.10.7"
  }
 },
 "nbformat": 4,
 "nbformat_minor": 5
}
