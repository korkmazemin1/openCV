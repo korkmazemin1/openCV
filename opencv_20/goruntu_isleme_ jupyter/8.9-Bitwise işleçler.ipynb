{
 "cells": [
  {
   "cell_type": "code",
   "execution_count": 2,
   "id": "ef7a4bb2",
   "metadata": {},
   "outputs": [],
   "source": [
    "import cv2\n",
    "import numpy as np\n",
    "\n",
    "img1=cv2.imread(r\"C:\\Users\\korkm\\Downloads\\9.2 bitwise_1.png.png\")\n",
    "img2=cv2.imread(r\"C:\\Users\\korkm\\Downloads\\9.1 bitwise_2.png.png\")\n",
    "bit_and=cv2.bitwise_and(img2,img1)#bit düzeyinde ve işlemlerinş gerçekleştirecek\n",
    "bit_or=cv2.bitwise_or(img2,img1)\n",
    "bit_xor=cv2.bitwise_xor(img2,img1)\n",
    "bit_not=cv2.bitwise_not(img2)\n",
    "\n",
    "\n",
    "cv2.imshow(\"bitwise deneme and\",bit_and)# beyaz kısımlar 1 siyah kısımlar ise 0 dır\n",
    "cv2.imshow(\"bitwise deneme or\",bit_or)\n",
    "cv2.imshow(\"orijinal1\",img1)\n",
    "cv2.imshow(\"orijinal2\",img2)\n",
    "cv2.imshow(\"bitwise deneme xor\",bit_xor)\n",
    "cv2.imshow(\"bitwise deneme not\",bit_not)\n",
    "\n",
    "\n",
    "cv2.waitKey(0)\n",
    "cv2.destroyAllWindows()"
   ]
  }
 ],
 "metadata": {
  "kernelspec": {
   "display_name": "Python 3 (ipykernel)",
   "language": "python",
   "name": "python3"
  },
  "language_info": {
   "codemirror_mode": {
    "name": "ipython",
    "version": 3
   },
   "file_extension": ".py",
   "mimetype": "text/x-python",
   "name": "python",
   "nbconvert_exporter": "python",
   "pygments_lexer": "ipython3",
   "version": "3.10.7"
  }
 },
 "nbformat": 4,
 "nbformat_minor": 5
}
