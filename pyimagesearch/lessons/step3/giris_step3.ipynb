{
 "cells": [
  {
   "cell_type": "code",
   "execution_count": 7,
   "metadata": {},
   "outputs": [
    {
     "name": "stdout",
     "output_type": "stream",
     "text": [
      "width= 1000,height= 1250,depth= 3\n"
     ]
    }
   ],
   "source": [
    "import imutils \n",
    "import cv2 \n",
    "image=cv2.imread(\"test.jpg\")\n",
    "(h,w,d)=image.shape\n",
    "print(f\"width= {w},height= {h},depth= {d}\")\n",
    "\n",
    "cv2.imshow(\"image\",image)\n",
    "cv2.waitKey(0)\n",
    "cv2.destroyAllWindows()"
   ]
  },
  {
   "cell_type": "code",
   "execution_count": 4,
   "id": "d7a63a6c",
   "metadata": {},
   "outputs": [
    {
     "name": "stdout",
     "output_type": "stream",
     "text": [
      "R= 103 G= 123 B= 132\n"
     ]
    }
   ],
   "source": [
    "\n",
    "import imutils \n",
    "import cv2 \n",
    "image=cv2.imread(\"test.jpg\")\n",
    "\n",
    "(B,G,R)=image[100,50]# tek bir piksel değerinin rgb değerini çektik\n",
    "print(f\"R= {R} G= {G} B= {B}\")"
   ]
  },
  {
   "cell_type": "code",
   "execution_count": 14,
   "id": "3d0c77a6",
   "metadata": {},
   "outputs": [],
   "source": [
    "#ROI\n",
    "import imutils \n",
    "import cv2 \n",
    "image=cv2.imread(\"test.jpg\")\n",
    "\n",
    "roi=image[600:1000,300:1000]# sırasıyla ye ve x eksenlerinde belirlediğimiz alanları seçtik\n",
    "\n",
    "\n",
    "\n",
    "cv2.imshow(\"ROI\",roi)\n",
    "\n",
    "cv2.imshow(\"image\",image)\n",
    "\n",
    "resized=cv2.resize(image,(300,300))\n",
    "\n",
    "cv2.imshow(\"resize\",resized)# orijinal görüntü yeniden boyutlandırıldı\n",
    "\n",
    "\n",
    "# en boy oranına göre yeniden boyutlandırma\n",
    "(h,w,d)=image.shape\n",
    "r=300/w # yeni yükseklik ile genişliği oranladık\n",
    "\n",
    "dim=(300,int(h*r))\n",
    "\n",
    "resized2=cv2.resize(image,dim)\n",
    "cv2.imshow(\"en boy oranina göre resize \",resized2)\n",
    "\n",
    "#hesap yapmadan imutils ile en boy oranına göre yeniden boyutlandırma\n",
    "\n",
    "resized_im=imutils.resize(image,width=300)\n",
    "cv2.imshow(\"imutils resize\",resized)\n",
    "\n",
    "\n",
    "cv2.waitKey(0)\n",
    "cv2.destroyAllWindows()\n",
    "\n",
    "\n",
    "\n"
   ]
  },
  {
   "cell_type": "code",
   "execution_count": 19,
   "id": "45817619",
   "metadata": {},
   "outputs": [],
   "source": [
    "#resmi döndürme\n",
    "import imutils \n",
    "import cv2 \n",
    "image=cv2.imread(\"test.jpg\")\n",
    "\n",
    "(h,w,d)=image.shape\n",
    "center=(w//2,h//2)\n",
    "M=cv2.getRotationMatrix2D(center,-45,1.0)#  resim saat yönünde 45 derece döndürüldü\n",
    "rotated=cv2.warpAffine(image,M,(w,h))\n",
    "\n",
    "cv2.imshow(\"dondurulmuş resim\",rotated)\n",
    "#imutils ile döndürme işlemi \n",
    "\n",
    "rotated_im=imutils.rotate(image,-45)\n",
    "\n",
    "cv2.imshow(\"rotated with imutlis\",rotated_im)\n",
    "\n",
    "cv2.waitKey(0)\n",
    "cv2.destroyAllWindows()"
   ]
  },
  {
   "cell_type": "code",
   "execution_count": null,
   "id": "9b0a5ad4",
   "metadata": {},
   "outputs": [],
   "source": [
    "import imutils \n",
    "import cv2 \n",
    "image=cv2.imread(\"test.jpg\")\n",
    "\n",
    "blurred=cv2.GaussianBlur(image,(11,11),0)\n"
   ]
  }
 ],
 "metadata": {
  "kernelspec": {
   "display_name": "Python 3",
   "language": "python",
   "name": "python3"
  },
  "language_info": {
   "codemirror_mode": {
    "name": "ipython",
    "version": 3
   },
   "file_extension": ".py",
   "mimetype": "text/x-python",
   "name": "python",
   "nbconvert_exporter": "python",
   "pygments_lexer": "ipython3",
   "version": "3.10.7"
  }
 },
 "nbformat": 4,
 "nbformat_minor": 5
}
